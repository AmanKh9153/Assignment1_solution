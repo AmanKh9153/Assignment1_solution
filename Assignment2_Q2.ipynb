{
  "nbformat": 4,
  "nbformat_minor": 0,
  "metadata": {
    "colab": {
      "name": "Q2.ipynb",
      "provenance": [],
      "collapsed_sections": [
        "PYCy11Lt5YsC",
        "xDqZGs7W5YsE",
        "cbhMGS4k5YsG"
      ],
      "include_colab_link": true
    },
    "kernelspec": {
      "display_name": "Python 3",
      "language": "python",
      "name": "python3"
    },
    "language_info": {
      "codemirror_mode": {
        "name": "ipython",
        "version": 3
      },
      "file_extension": ".py",
      "mimetype": "text/x-python",
      "name": "python",
      "nbconvert_exporter": "python",
      "pygments_lexer": "ipython3",
      "version": "3.6.5"
    }
  },
  "cells": [
    {
      "cell_type": "markdown",
      "metadata": {
        "id": "view-in-github",
        "colab_type": "text"
      },
      "source": [
        "<a href=\"https://colab.research.google.com/github/AmanKh9153/Assignment1_solution/blob/main/Assignment2_Q2.ipynb\" target=\"_parent\"><img src=\"https://colab.research.google.com/assets/colab-badge.svg\" alt=\"Open In Colab\"/></a>"
      ]
    },
    {
      "cell_type": "markdown",
      "metadata": {
        "id": "o_SQ_Ite5Yr4"
      },
      "source": [
        "#### Importing Necessary Libraries"
      ]
    },
    {
      "cell_type": "code",
      "metadata": {
        "id": "4ufjbeE25Yr5"
      },
      "source": [
        "import numpy as np\n",
        "import matplotlib.pyplot as plt\n",
        "import pandas as pd\n",
        "import time\n",
        "%matplotlib inline"
      ],
      "execution_count": null,
      "outputs": []
    },
    {
      "cell_type": "code",
      "metadata": {
        "colab": {
          "base_uri": "https://localhost:8080/"
        },
        "id": "7BBbjq0B5Yr6",
        "outputId": "bfdcf14b-9e26-49b5-cf70-17c6dd4e3920"
      },
      "source": [
        "!pip3 install openpyxl"
      ],
      "execution_count": null,
      "outputs": [
        {
          "name": "stdout",
          "output_type": "stream",
          "text": [
            "Requirement already satisfied: openpyxl in /usr/local/lib/python3.7/dist-packages (2.5.9)\n",
            "Requirement already satisfied: et-xmlfile in /usr/local/lib/python3.7/dist-packages (from openpyxl) (1.1.0)\n",
            "Requirement already satisfied: jdcal in /usr/local/lib/python3.7/dist-packages (from openpyxl) (1.4.1)\n"
          ]
        }
      ]
    },
    {
      "cell_type": "code",
      "metadata": {
        "colab": {
          "base_uri": "https://localhost:8080/"
        },
        "id": "1EnaSmRR5xIK",
        "outputId": "4c8b5c97-6b22-4d56-beec-9ec9d2b8deaa"
      },
      "source": [
        "from google.colab import drive\n",
        "drive.mount('/content/drive')"
      ],
      "execution_count": null,
      "outputs": [
        {
          "output_type": "stream",
          "name": "stdout",
          "text": [
            "Mounted at /content/drive\n"
          ]
        }
      ]
    },
    {
      "cell_type": "markdown",
      "metadata": {
        "id": "KknzLpS-5Yr7"
      },
      "source": [
        "#### Loading the Dataset to a Dataframe"
      ]
    },
    {
      "cell_type": "code",
      "metadata": {
        "colab": {
          "base_uri": "https://localhost:8080/",
          "height": 402
        },
        "id": "OGbWR8WS5Yr7",
        "outputId": "3d43a220-1667-4786-a1a7-e223d0d94515"
      },
      "source": [
        "root_folder = '/content/drive/MyDrive/DS503Assignment1_11841160_11841200/Q2/CCPP' #set path accordingly\n",
        "mydf = pd.read_excel(root_folder+'/Folds5x2_pp.xlsx',engine='openpyxl')\n",
        "mydf"
      ],
      "execution_count": null,
      "outputs": [
        {
          "data": {
            "text/html": [
              "<div>\n",
              "<style scoped>\n",
              "    .dataframe tbody tr th:only-of-type {\n",
              "        vertical-align: middle;\n",
              "    }\n",
              "\n",
              "    .dataframe tbody tr th {\n",
              "        vertical-align: top;\n",
              "    }\n",
              "\n",
              "    .dataframe thead th {\n",
              "        text-align: right;\n",
              "    }\n",
              "</style>\n",
              "<table border=\"1\" class=\"dataframe\">\n",
              "  <thead>\n",
              "    <tr style=\"text-align: right;\">\n",
              "      <th></th>\n",
              "      <th>AT</th>\n",
              "      <th>V</th>\n",
              "      <th>AP</th>\n",
              "      <th>RH</th>\n",
              "      <th>PE</th>\n",
              "    </tr>\n",
              "  </thead>\n",
              "  <tbody>\n",
              "    <tr>\n",
              "      <th>0</th>\n",
              "      <td>14.96</td>\n",
              "      <td>41.76</td>\n",
              "      <td>1024.07</td>\n",
              "      <td>73.17</td>\n",
              "      <td>463.26</td>\n",
              "    </tr>\n",
              "    <tr>\n",
              "      <th>1</th>\n",
              "      <td>25.18</td>\n",
              "      <td>62.96</td>\n",
              "      <td>1020.04</td>\n",
              "      <td>59.08</td>\n",
              "      <td>444.37</td>\n",
              "    </tr>\n",
              "    <tr>\n",
              "      <th>2</th>\n",
              "      <td>5.11</td>\n",
              "      <td>39.40</td>\n",
              "      <td>1012.16</td>\n",
              "      <td>92.14</td>\n",
              "      <td>488.56</td>\n",
              "    </tr>\n",
              "    <tr>\n",
              "      <th>3</th>\n",
              "      <td>20.86</td>\n",
              "      <td>57.32</td>\n",
              "      <td>1010.24</td>\n",
              "      <td>76.64</td>\n",
              "      <td>446.48</td>\n",
              "    </tr>\n",
              "    <tr>\n",
              "      <th>4</th>\n",
              "      <td>10.82</td>\n",
              "      <td>37.50</td>\n",
              "      <td>1009.23</td>\n",
              "      <td>96.62</td>\n",
              "      <td>473.90</td>\n",
              "    </tr>\n",
              "    <tr>\n",
              "      <th>...</th>\n",
              "      <td>...</td>\n",
              "      <td>...</td>\n",
              "      <td>...</td>\n",
              "      <td>...</td>\n",
              "      <td>...</td>\n",
              "    </tr>\n",
              "    <tr>\n",
              "      <th>9563</th>\n",
              "      <td>16.65</td>\n",
              "      <td>49.69</td>\n",
              "      <td>1014.01</td>\n",
              "      <td>91.00</td>\n",
              "      <td>460.03</td>\n",
              "    </tr>\n",
              "    <tr>\n",
              "      <th>9564</th>\n",
              "      <td>13.19</td>\n",
              "      <td>39.18</td>\n",
              "      <td>1023.67</td>\n",
              "      <td>66.78</td>\n",
              "      <td>469.62</td>\n",
              "    </tr>\n",
              "    <tr>\n",
              "      <th>9565</th>\n",
              "      <td>31.32</td>\n",
              "      <td>74.33</td>\n",
              "      <td>1012.92</td>\n",
              "      <td>36.48</td>\n",
              "      <td>429.57</td>\n",
              "    </tr>\n",
              "    <tr>\n",
              "      <th>9566</th>\n",
              "      <td>24.48</td>\n",
              "      <td>69.45</td>\n",
              "      <td>1013.86</td>\n",
              "      <td>62.39</td>\n",
              "      <td>435.74</td>\n",
              "    </tr>\n",
              "    <tr>\n",
              "      <th>9567</th>\n",
              "      <td>21.60</td>\n",
              "      <td>62.52</td>\n",
              "      <td>1017.23</td>\n",
              "      <td>67.87</td>\n",
              "      <td>453.28</td>\n",
              "    </tr>\n",
              "  </tbody>\n",
              "</table>\n",
              "<p>9568 rows × 5 columns</p>\n",
              "</div>"
            ],
            "text/plain": [
              "         AT      V       AP     RH      PE\n",
              "0     14.96  41.76  1024.07  73.17  463.26\n",
              "1     25.18  62.96  1020.04  59.08  444.37\n",
              "2      5.11  39.40  1012.16  92.14  488.56\n",
              "3     20.86  57.32  1010.24  76.64  446.48\n",
              "4     10.82  37.50  1009.23  96.62  473.90\n",
              "...     ...    ...      ...    ...     ...\n",
              "9563  16.65  49.69  1014.01  91.00  460.03\n",
              "9564  13.19  39.18  1023.67  66.78  469.62\n",
              "9565  31.32  74.33  1012.92  36.48  429.57\n",
              "9566  24.48  69.45  1013.86  62.39  435.74\n",
              "9567  21.60  62.52  1017.23  67.87  453.28\n",
              "\n",
              "[9568 rows x 5 columns]"
            ]
          },
          "execution_count": 4,
          "metadata": {},
          "output_type": "execute_result"
        }
      ]
    },
    {
      "cell_type": "code",
      "metadata": {
        "colab": {
          "base_uri": "https://localhost:8080/",
          "height": 402
        },
        "id": "rn0VPUXq5Yr8",
        "outputId": "6c80f1a8-48d2-46eb-c665-5b096a72408e"
      },
      "source": [
        "## Dropping any duplicate rows if present\n",
        "mydf.drop_duplicates(keep='first',ignore_index=True)\n",
        "mydf"
      ],
      "execution_count": null,
      "outputs": [
        {
          "data": {
            "text/html": [
              "<div>\n",
              "<style scoped>\n",
              "    .dataframe tbody tr th:only-of-type {\n",
              "        vertical-align: middle;\n",
              "    }\n",
              "\n",
              "    .dataframe tbody tr th {\n",
              "        vertical-align: top;\n",
              "    }\n",
              "\n",
              "    .dataframe thead th {\n",
              "        text-align: right;\n",
              "    }\n",
              "</style>\n",
              "<table border=\"1\" class=\"dataframe\">\n",
              "  <thead>\n",
              "    <tr style=\"text-align: right;\">\n",
              "      <th></th>\n",
              "      <th>AT</th>\n",
              "      <th>V</th>\n",
              "      <th>AP</th>\n",
              "      <th>RH</th>\n",
              "      <th>PE</th>\n",
              "    </tr>\n",
              "  </thead>\n",
              "  <tbody>\n",
              "    <tr>\n",
              "      <th>0</th>\n",
              "      <td>14.96</td>\n",
              "      <td>41.76</td>\n",
              "      <td>1024.07</td>\n",
              "      <td>73.17</td>\n",
              "      <td>463.26</td>\n",
              "    </tr>\n",
              "    <tr>\n",
              "      <th>1</th>\n",
              "      <td>25.18</td>\n",
              "      <td>62.96</td>\n",
              "      <td>1020.04</td>\n",
              "      <td>59.08</td>\n",
              "      <td>444.37</td>\n",
              "    </tr>\n",
              "    <tr>\n",
              "      <th>2</th>\n",
              "      <td>5.11</td>\n",
              "      <td>39.40</td>\n",
              "      <td>1012.16</td>\n",
              "      <td>92.14</td>\n",
              "      <td>488.56</td>\n",
              "    </tr>\n",
              "    <tr>\n",
              "      <th>3</th>\n",
              "      <td>20.86</td>\n",
              "      <td>57.32</td>\n",
              "      <td>1010.24</td>\n",
              "      <td>76.64</td>\n",
              "      <td>446.48</td>\n",
              "    </tr>\n",
              "    <tr>\n",
              "      <th>4</th>\n",
              "      <td>10.82</td>\n",
              "      <td>37.50</td>\n",
              "      <td>1009.23</td>\n",
              "      <td>96.62</td>\n",
              "      <td>473.90</td>\n",
              "    </tr>\n",
              "    <tr>\n",
              "      <th>...</th>\n",
              "      <td>...</td>\n",
              "      <td>...</td>\n",
              "      <td>...</td>\n",
              "      <td>...</td>\n",
              "      <td>...</td>\n",
              "    </tr>\n",
              "    <tr>\n",
              "      <th>9563</th>\n",
              "      <td>16.65</td>\n",
              "      <td>49.69</td>\n",
              "      <td>1014.01</td>\n",
              "      <td>91.00</td>\n",
              "      <td>460.03</td>\n",
              "    </tr>\n",
              "    <tr>\n",
              "      <th>9564</th>\n",
              "      <td>13.19</td>\n",
              "      <td>39.18</td>\n",
              "      <td>1023.67</td>\n",
              "      <td>66.78</td>\n",
              "      <td>469.62</td>\n",
              "    </tr>\n",
              "    <tr>\n",
              "      <th>9565</th>\n",
              "      <td>31.32</td>\n",
              "      <td>74.33</td>\n",
              "      <td>1012.92</td>\n",
              "      <td>36.48</td>\n",
              "      <td>429.57</td>\n",
              "    </tr>\n",
              "    <tr>\n",
              "      <th>9566</th>\n",
              "      <td>24.48</td>\n",
              "      <td>69.45</td>\n",
              "      <td>1013.86</td>\n",
              "      <td>62.39</td>\n",
              "      <td>435.74</td>\n",
              "    </tr>\n",
              "    <tr>\n",
              "      <th>9567</th>\n",
              "      <td>21.60</td>\n",
              "      <td>62.52</td>\n",
              "      <td>1017.23</td>\n",
              "      <td>67.87</td>\n",
              "      <td>453.28</td>\n",
              "    </tr>\n",
              "  </tbody>\n",
              "</table>\n",
              "<p>9568 rows × 5 columns</p>\n",
              "</div>"
            ],
            "text/plain": [
              "         AT      V       AP     RH      PE\n",
              "0     14.96  41.76  1024.07  73.17  463.26\n",
              "1     25.18  62.96  1020.04  59.08  444.37\n",
              "2      5.11  39.40  1012.16  92.14  488.56\n",
              "3     20.86  57.32  1010.24  76.64  446.48\n",
              "4     10.82  37.50  1009.23  96.62  473.90\n",
              "...     ...    ...      ...    ...     ...\n",
              "9563  16.65  49.69  1014.01  91.00  460.03\n",
              "9564  13.19  39.18  1023.67  66.78  469.62\n",
              "9565  31.32  74.33  1012.92  36.48  429.57\n",
              "9566  24.48  69.45  1013.86  62.39  435.74\n",
              "9567  21.60  62.52  1017.23  67.87  453.28\n",
              "\n",
              "[9568 rows x 5 columns]"
            ]
          },
          "execution_count": 5,
          "metadata": {},
          "output_type": "execute_result"
        }
      ]
    },
    {
      "cell_type": "markdown",
      "metadata": {
        "id": "jTbxHfYP5Yr8"
      },
      "source": [
        "#### Loading the Independent Variables"
      ]
    },
    {
      "cell_type": "code",
      "metadata": {
        "colab": {
          "base_uri": "https://localhost:8080/"
        },
        "id": "vLKVGvCW5Yr9",
        "outputId": "1379d570-43ee-4a5b-8abc-cbd78c95542c"
      },
      "source": [
        "X=mydf[['AT','V','AP','RH']].to_numpy()\n",
        "X"
      ],
      "execution_count": null,
      "outputs": [
        {
          "data": {
            "text/plain": [
              "array([[  14.96,   41.76, 1024.07,   73.17],\n",
              "       [  25.18,   62.96, 1020.04,   59.08],\n",
              "       [   5.11,   39.4 , 1012.16,   92.14],\n",
              "       ...,\n",
              "       [  31.32,   74.33, 1012.92,   36.48],\n",
              "       [  24.48,   69.45, 1013.86,   62.39],\n",
              "       [  21.6 ,   62.52, 1017.23,   67.87]])"
            ]
          },
          "execution_count": 7,
          "metadata": {},
          "output_type": "execute_result"
        }
      ]
    },
    {
      "cell_type": "markdown",
      "metadata": {
        "id": "ZjwN1x4R5Yr9"
      },
      "source": [
        "#### Standardizing the Data"
      ]
    },
    {
      "cell_type": "code",
      "metadata": {
        "colab": {
          "base_uri": "https://localhost:8080/"
        },
        "id": "uRrQuEKG5Yr9",
        "outputId": "59090a01-c102-444c-a194-dc4af8707c2d"
      },
      "source": [
        "from sklearn.preprocessing import StandardScaler\n",
        "scaler = StandardScaler()\n",
        "X=scaler.fit_transform(X)\n",
        "X"
      ],
      "execution_count": null,
      "outputs": [
        {
          "data": {
            "text/plain": [
              "array([[-0.62951938, -0.98729659,  1.8204884 , -0.00951935],\n",
              "       [ 0.74190911,  0.68104512,  1.1418628 , -0.97462052],\n",
              "       [-1.95129733, -1.17301765, -0.18507756,  1.2898397 ],\n",
              "       ...,\n",
              "       [ 1.56583973,  1.57581141, -0.05709854, -2.52261812],\n",
              "       [ 0.64797565,  1.19177803,  0.1011913 , -0.74790051],\n",
              "       [ 0.26150656,  0.64641916,  0.66867722, -0.37254534]])"
            ]
          },
          "execution_count": 8,
          "metadata": {},
          "output_type": "execute_result"
        }
      ]
    },
    {
      "cell_type": "code",
      "metadata": {
        "colab": {
          "base_uri": "https://localhost:8080/"
        },
        "id": "9JJAL1MR7ski",
        "outputId": "aae5f60d-2ce0-4509-ce84-0a2d074422f1"
      },
      "source": [
        "### We first need to add a column of 1s to X for the bias/intercept term\n",
        "x_new = np.append(np.ones((X.shape[0],1)),X,axis=1)\n",
        "print(x_new)"
      ],
      "execution_count": null,
      "outputs": [
        {
          "name": "stdout",
          "output_type": "stream",
          "text": [
            "[[ 1.         -0.62951938 -0.98729659  1.8204884  -0.00951935]\n",
            " [ 1.          0.74190911  0.68104512  1.1418628  -0.97462052]\n",
            " [ 1.         -1.95129733 -1.17301765 -0.18507756  1.2898397 ]\n",
            " ...\n",
            " [ 1.          1.56583973  1.57581141 -0.05709854 -2.52261812]\n",
            " [ 1.          0.64797565  1.19177803  0.1011913  -0.74790051]\n",
            " [ 1.          0.26150656  0.64641916  0.66867722 -0.37254534]]\n"
          ]
        }
      ]
    },
    {
      "cell_type": "markdown",
      "metadata": {
        "id": "lEaP09ht5Yr-"
      },
      "source": [
        "#### Defining the dependent variable"
      ]
    },
    {
      "cell_type": "code",
      "metadata": {
        "id": "fYoaM5Gl5Yr-"
      },
      "source": [
        "y=mydf['PE'].to_numpy()"
      ],
      "execution_count": null,
      "outputs": []
    },
    {
      "cell_type": "markdown",
      "metadata": {
        "id": "V5lCH2wd5Yr-"
      },
      "source": [
        "### Normal Equations Method"
      ]
    },
    {
      "cell_type": "code",
      "metadata": {
        "colab": {
          "base_uri": "https://localhost:8080/"
        },
        "id": "4GtqhejV5Yr_",
        "outputId": "6eb760d8-28cb-401a-dbaa-2cc1418e4600"
      },
      "source": [
        "# Using Normal Equation.\n",
        "start = time.process_time() \n",
        "theta_best_values=np.linalg.inv(x_new.T.dot(x_new)).dot(x_new.T).dot(y)\n",
        "print(\"The weights obtained by normal equations method are: \\n\",theta_best_values)\n",
        "print(\"The first term corresponds to the bias/intercept\")\n",
        "print(\"time taken is \",time.process_time() - start, \"seconds\")"
      ],
      "execution_count": null,
      "outputs": [
        {
          "name": "stdout",
          "output_type": "stream",
          "text": [
            "The weights obtained by normal equations method are: \n",
            " [ 4.54365009e+02 -1.47365933e+01 -2.97242952e+00  3.68677907e-01\n",
            " -2.30751179e+00]\n",
            "The first term corresponds to the bias/intercept\n",
            "time taken is  0.005769886999999585 seconds\n"
          ]
        }
      ]
    },
    {
      "cell_type": "code",
      "metadata": {
        "colab": {
          "base_uri": "https://localhost:8080/"
        },
        "id": "GC7K6Rkg5Yr_",
        "outputId": "4fae3646-ce51-4121-fd7f-660d7c7ac94a"
      },
      "source": [
        "## The predicted values for each data point using the normal equations method are as follows\n",
        "predicted_values=x_new.dot(theta_best_values)\n",
        "print(predicted_values)"
      ],
      "execution_count": null,
      "outputs": [
        {
          "name": "stdout",
          "output_type": "stream",
          "text": [
            "[467.26978996 444.0773659  483.56264263 ... 432.40579787 443.03667582\n",
            " 449.69603741]\n"
          ]
        }
      ]
    },
    {
      "cell_type": "code",
      "metadata": {
        "colab": {
          "base_uri": "https://localhost:8080/"
        },
        "id": "TaPoeK5U5YsA",
        "outputId": "b4c9dca7-94c1-4f50-b77f-c4d9160311ab"
      },
      "source": [
        "## The mean square error is as follows using the normal equations method\n",
        "mse = ((predicted_values - y)**2).mean(axis=0)\n",
        "print(\"Mean Square Error\",mse)"
      ],
      "execution_count": null,
      "outputs": [
        {
          "name": "stdout",
          "output_type": "stream",
          "text": [
            "Mean Square Error 20.767397532535025\n"
          ]
        }
      ]
    },
    {
      "cell_type": "code",
      "metadata": {
        "colab": {
          "base_uri": "https://localhost:8080/"
        },
        "id": "180-pxUyEIcV",
        "outputId": "7d5fa24d-dab7-490a-9815-19d93e3b7a93"
      },
      "source": [
        "## The sum of least squared error\n",
        "print(\"The sum of least square error is\",mse*9568)"
      ],
      "execution_count": null,
      "outputs": [
        {
          "name": "stdout",
          "output_type": "stream",
          "text": [
            "The sum of least square error is 198702.4595912951\n"
          ]
        }
      ]
    },
    {
      "cell_type": "markdown",
      "metadata": {
        "id": "PYCy11Lt5YsC"
      },
      "source": [
        "#### Next we find the top 5 data points with the maximum mean square error"
      ]
    },
    {
      "cell_type": "code",
      "metadata": {
        "colab": {
          "base_uri": "https://localhost:8080/"
        },
        "id": "5w4nAEqR5YsC",
        "outputId": "70f9ec9b-6e0c-4aa6-b41f-b26932373894"
      },
      "source": [
        "mse_per_point = ((predicted_values - y)**2)\n",
        "mse_per_point.shape"
      ],
      "execution_count": null,
      "outputs": [
        {
          "data": {
            "text/plain": [
              "(9568,)"
            ]
          },
          "execution_count": 16,
          "metadata": {},
          "output_type": "execute_result"
        }
      ]
    },
    {
      "cell_type": "code",
      "metadata": {
        "colab": {
          "base_uri": "https://localhost:8080/"
        },
        "id": "_-Z-oXIRFSqz",
        "outputId": "2a68d7cc-7eae-4491-f445-01b08e0b71bc"
      },
      "source": [
        "a=np.array([1,2,3,4,5])\n",
        "a.argsort()[-3:]"
      ],
      "execution_count": null,
      "outputs": [
        {
          "data": {
            "text/plain": [
              "array([2, 3, 4])"
            ]
          },
          "execution_count": 22,
          "metadata": {},
          "output_type": "execute_result"
        }
      ]
    },
    {
      "cell_type": "code",
      "metadata": {
        "colab": {
          "base_uri": "https://localhost:8080/"
        },
        "id": "9lbaJBli5YsD",
        "outputId": "b0dd7f66-7f9b-48d3-93cf-15858dac5af8"
      },
      "source": [
        "## Getting the indices of data points with maximum error\n",
        "maxerror5_index=mse_per_point.argsort()[-5:][::-1]\n",
        "maxerror5_index"
      ],
      "execution_count": null,
      "outputs": [
        {
          "data": {
            "text/plain": [
              "array([3117, 7664, 3383, 7398, 3895])"
            ]
          },
          "execution_count": 23,
          "metadata": {},
          "output_type": "execute_result"
        }
      ]
    },
    {
      "cell_type": "code",
      "metadata": {
        "colab": {
          "base_uri": "https://localhost:8080/"
        },
        "id": "drWqk99fFy6F",
        "outputId": "4a4bb407-01ce-49e7-fafe-02196e40a87e"
      },
      "source": [
        "## The values of maximum least squared errors are\n",
        "mse_per_point[maxerror5_index]"
      ],
      "execution_count": null,
      "outputs": [
        {
          "data": {
            "text/plain": [
              "array([1886.63342877, 1852.08383355, 1471.24994754,  965.66152175,\n",
              "        961.64822569])"
            ]
          },
          "execution_count": 26,
          "metadata": {},
          "output_type": "execute_result"
        }
      ]
    },
    {
      "cell_type": "code",
      "metadata": {
        "colab": {
          "base_uri": "https://localhost:8080/",
          "height": 195
        },
        "id": "ojN0n9pt5YsD",
        "outputId": "45bf2d42-151c-4cbc-e0aa-b152217013a1"
      },
      "source": [
        "## Printing the data points\n",
        "mydf.iloc[maxerror5_index]"
      ],
      "execution_count": null,
      "outputs": [
        {
          "data": {
            "text/html": [
              "<div>\n",
              "<style scoped>\n",
              "    .dataframe tbody tr th:only-of-type {\n",
              "        vertical-align: middle;\n",
              "    }\n",
              "\n",
              "    .dataframe tbody tr th {\n",
              "        vertical-align: top;\n",
              "    }\n",
              "\n",
              "    .dataframe thead th {\n",
              "        text-align: right;\n",
              "    }\n",
              "</style>\n",
              "<table border=\"1\" class=\"dataframe\">\n",
              "  <thead>\n",
              "    <tr style=\"text-align: right;\">\n",
              "      <th></th>\n",
              "      <th>AT</th>\n",
              "      <th>V</th>\n",
              "      <th>AP</th>\n",
              "      <th>RH</th>\n",
              "      <th>PE</th>\n",
              "    </tr>\n",
              "  </thead>\n",
              "  <tbody>\n",
              "    <tr>\n",
              "      <th>3117</th>\n",
              "      <td>8.74</td>\n",
              "      <td>36.30</td>\n",
              "      <td>1015.18</td>\n",
              "      <td>61.97</td>\n",
              "      <td>438.63</td>\n",
              "    </tr>\n",
              "    <tr>\n",
              "      <th>7664</th>\n",
              "      <td>7.14</td>\n",
              "      <td>41.22</td>\n",
              "      <td>1016.60</td>\n",
              "      <td>97.09</td>\n",
              "      <td>435.58</td>\n",
              "    </tr>\n",
              "    <tr>\n",
              "      <th>3383</th>\n",
              "      <td>6.22</td>\n",
              "      <td>39.85</td>\n",
              "      <td>1012.05</td>\n",
              "      <td>86.88</td>\n",
              "      <td>443.73</td>\n",
              "    </tr>\n",
              "    <tr>\n",
              "      <th>7398</th>\n",
              "      <td>7.06</td>\n",
              "      <td>41.74</td>\n",
              "      <td>1021.95</td>\n",
              "      <td>90.38</td>\n",
              "      <td>448.97</td>\n",
              "    </tr>\n",
              "    <tr>\n",
              "      <th>3895</th>\n",
              "      <td>14.69</td>\n",
              "      <td>49.64</td>\n",
              "      <td>1023.43</td>\n",
              "      <td>78.17</td>\n",
              "      <td>434.12</td>\n",
              "    </tr>\n",
              "  </tbody>\n",
              "</table>\n",
              "</div>"
            ],
            "text/plain": [
              "         AT      V       AP     RH      PE\n",
              "3117   8.74  36.30  1015.18  61.97  438.63\n",
              "7664   7.14  41.22  1016.60  97.09  435.58\n",
              "3383   6.22  39.85  1012.05  86.88  443.73\n",
              "7398   7.06  41.74  1021.95  90.38  448.97\n",
              "3895  14.69  49.64  1023.43  78.17  434.12"
            ]
          },
          "execution_count": 27,
          "metadata": {},
          "output_type": "execute_result"
        }
      ]
    },
    {
      "cell_type": "code",
      "metadata": {
        "colab": {
          "base_uri": "https://localhost:8080/"
        },
        "id": "aSkxaHjXHBV2",
        "outputId": "9d109b3d-99ad-48b4-af71-d7dfe2814142"
      },
      "source": [
        "### Printing min,max,avg for each Independent Variable\n",
        "temp=pd.DataFrame(columns=mydf.columns)\n",
        "print(\"minimum\\n\",pd.DataFrame(mydf.min()).transpose())\n",
        "print(\"maximum\\n\",pd.DataFrame(mydf.max()).transpose())\n",
        "print(\"average\\n\",pd.DataFrame(mydf.mean()).transpose())"
      ],
      "execution_count": null,
      "outputs": [
        {
          "name": "stdout",
          "output_type": "stream",
          "text": [
            "minimum\n",
            "      AT      V      AP     RH      PE\n",
            "0  1.81  25.36  992.89  25.56  420.26\n",
            "maximum\n",
            "       AT      V      AP      RH      PE\n",
            "0  37.11  81.56  1033.3  100.16  495.76\n",
            "average\n",
            "           AT          V           AP         RH          PE\n",
            "0  19.651231  54.305804  1013.259078  73.308978  454.365009\n"
          ]
        }
      ]
    },
    {
      "cell_type": "markdown",
      "metadata": {
        "id": "xDqZGs7W5YsE"
      },
      "source": [
        "#### Check if the 5 data points with maximum error are outliers"
      ]
    },
    {
      "cell_type": "code",
      "metadata": {
        "id": "e65jaxEC5YsE"
      },
      "source": [
        "from numpy.random import seed\n",
        "from numpy.random import randn\n",
        "from numpy import percentile\n",
        "## Helper function to check if a data point is outlier using interquartile range method\n",
        "def check_outlier(x):\n",
        "    mydic={}\n",
        "    for col_name in ['AT','V','AP','RH']:\n",
        "        q25, q75 = percentile(mydf[col_name].to_numpy(), 25), percentile(mydf[col_name].to_numpy(), 75)\n",
        "        iqr = q75 - q25\n",
        "        cut_off = iqr * 1.5\n",
        "        lower, upper = q25 - cut_off, q75 + cut_off\n",
        "        if x[col_name]<lower or x[col_name]>upper:\n",
        "            mydic[col_name]=True\n",
        "        else:\n",
        "            mydic[col_name]=False\n",
        "    return mydic"
      ],
      "execution_count": null,
      "outputs": []
    },
    {
      "cell_type": "markdown",
      "metadata": {
        "id": "NwMcFLIT5YsE"
      },
      "source": [
        "we can check if the data points are outliers using the interquartile range method (which specifies it with respect to each column). We observe that none of the points are outliers."
      ]
    },
    {
      "cell_type": "code",
      "metadata": {
        "colab": {
          "base_uri": "https://localhost:8080/"
        },
        "id": "K8yadOsF5YsF",
        "outputId": "4a4bed40-f686-44f0-c400-b788b9b18c50"
      },
      "source": [
        "## We find that none of the points are outliers with respect to each independent variable using the IQR method.\n",
        "count=1\n",
        "for index in maxerror5_index:\n",
        "    print(\"data point\",count,check_outlier(mydf.iloc[index]))\n",
        "    count = count+1"
      ],
      "execution_count": null,
      "outputs": [
        {
          "name": "stdout",
          "output_type": "stream",
          "text": [
            "data point 1 {'AT': False, 'V': False, 'AP': False, 'RH': False}\n",
            "data point 2 {'AT': False, 'V': False, 'AP': False, 'RH': False}\n",
            "data point 3 {'AT': False, 'V': False, 'AP': False, 'RH': False}\n",
            "data point 4 {'AT': False, 'V': False, 'AP': False, 'RH': False}\n",
            "data point 5 {'AT': False, 'V': False, 'AP': False, 'RH': False}\n"
          ]
        }
      ]
    },
    {
      "cell_type": "markdown",
      "metadata": {
        "id": "zirUtXCf5YsF"
      },
      "source": [
        "### QR Decomposition Method"
      ]
    },
    {
      "cell_type": "code",
      "metadata": {
        "colab": {
          "base_uri": "https://localhost:8080/"
        },
        "id": "a3dRJGn55YsF",
        "outputId": "837803f6-6647-4f39-e1a9-b7c33c714f95"
      },
      "source": [
        "start=time.process_time()\n",
        "Q, R = np.linalg.qr(x_new)\n",
        "b = np.linalg.inv(R).dot(Q.T).dot(y)\n",
        "print(\"The weights obtained by QR decomposition method are: \\n\",b)\n",
        "print(\"The first term corresponds to the bias/intercept\")\n",
        "print(\"time taken is \",time.process_time() - start, \"seconds\")"
      ],
      "execution_count": null,
      "outputs": [
        {
          "name": "stdout",
          "output_type": "stream",
          "text": [
            "The weights obtained by QR decomposition method are: \n",
            " [ 4.54365009e+02 -1.47365933e+01 -2.97242952e+00  3.68677907e-01\n",
            " -2.30751179e+00]\n",
            "The first term corresponds to the bias/intercept\n",
            "time taken is  0.010310193999998774 seconds\n"
          ]
        }
      ]
    },
    {
      "cell_type": "code",
      "metadata": {
        "id": "HjzF0qB25YsG"
      },
      "source": [
        "## Predict using QR decomposition Method\n",
        "yhat = x_new.dot(b)"
      ],
      "execution_count": null,
      "outputs": []
    },
    {
      "cell_type": "code",
      "metadata": {
        "colab": {
          "base_uri": "https://localhost:8080/"
        },
        "id": "vWqjoA0U5YsG",
        "outputId": "33c4eee9-bb2e-490d-8815-118d2521bb58"
      },
      "source": [
        "## The mean square error is as follows using the normal equations method\n",
        "mse = ((predicted_values - y)**2).mean(axis=0)\n",
        "print(\"Mean Square Error\",mse)"
      ],
      "execution_count": null,
      "outputs": [
        {
          "name": "stdout",
          "output_type": "stream",
          "text": [
            "Mean Square Error 20.767397532535025\n"
          ]
        }
      ]
    },
    {
      "cell_type": "code",
      "metadata": {
        "colab": {
          "base_uri": "https://localhost:8080/"
        },
        "id": "xPiLY7VrKZKW",
        "outputId": "e9e7c850-3adb-4906-d0be-f5e350bf4aa1"
      },
      "source": [
        "## The sum of least squared error\n",
        "print(\"The sum of least square error is\",mse*9568)"
      ],
      "execution_count": null,
      "outputs": [
        {
          "name": "stdout",
          "output_type": "stream",
          "text": [
            "The sum of least square error is 198702.4595912951\n"
          ]
        }
      ]
    },
    {
      "cell_type": "markdown",
      "metadata": {
        "id": "cbhMGS4k5YsG"
      },
      "source": [
        "#### Next we find the top 5 data points with the maximum mean square error"
      ]
    },
    {
      "cell_type": "code",
      "metadata": {
        "colab": {
          "base_uri": "https://localhost:8080/"
        },
        "id": "j7B9kZYS5YsH",
        "outputId": "6a265fcc-b9ca-4fdd-9589-46a0c468712f"
      },
      "source": [
        "mse_per_point = ((predicted_values - y)**2)\n",
        "mse_per_point.shape"
      ],
      "execution_count": null,
      "outputs": [
        {
          "data": {
            "text/plain": [
              "(9568,)"
            ]
          },
          "execution_count": 51,
          "metadata": {},
          "output_type": "execute_result"
        }
      ]
    },
    {
      "cell_type": "code",
      "metadata": {
        "colab": {
          "base_uri": "https://localhost:8080/"
        },
        "id": "o7r6yjss5YsH",
        "outputId": "7021b933-a186-4ae3-d1ef-109887e31da0"
      },
      "source": [
        "## Getting the indices of data points with maximum error\n",
        "maxerror5_index=mse_per_point.argsort()[-5:][::-1]\n",
        "maxerror5_index"
      ],
      "execution_count": null,
      "outputs": [
        {
          "data": {
            "text/plain": [
              "array([3117, 7664, 3383, 7398, 3895])"
            ]
          },
          "execution_count": 52,
          "metadata": {},
          "output_type": "execute_result"
        }
      ]
    },
    {
      "cell_type": "code",
      "metadata": {
        "colab": {
          "base_uri": "https://localhost:8080/",
          "height": 195
        },
        "id": "-ln-SZp25YsH",
        "outputId": "41740821-f4d3-4f80-bea6-75fa5b6f7cc9"
      },
      "source": [
        "## Printing the data points\n",
        "mydf.iloc[maxerror5_index]"
      ],
      "execution_count": null,
      "outputs": [
        {
          "data": {
            "text/html": [
              "<div>\n",
              "<style scoped>\n",
              "    .dataframe tbody tr th:only-of-type {\n",
              "        vertical-align: middle;\n",
              "    }\n",
              "\n",
              "    .dataframe tbody tr th {\n",
              "        vertical-align: top;\n",
              "    }\n",
              "\n",
              "    .dataframe thead th {\n",
              "        text-align: right;\n",
              "    }\n",
              "</style>\n",
              "<table border=\"1\" class=\"dataframe\">\n",
              "  <thead>\n",
              "    <tr style=\"text-align: right;\">\n",
              "      <th></th>\n",
              "      <th>AT</th>\n",
              "      <th>V</th>\n",
              "      <th>AP</th>\n",
              "      <th>RH</th>\n",
              "      <th>PE</th>\n",
              "    </tr>\n",
              "  </thead>\n",
              "  <tbody>\n",
              "    <tr>\n",
              "      <th>3117</th>\n",
              "      <td>8.74</td>\n",
              "      <td>36.30</td>\n",
              "      <td>1015.18</td>\n",
              "      <td>61.97</td>\n",
              "      <td>438.63</td>\n",
              "    </tr>\n",
              "    <tr>\n",
              "      <th>7664</th>\n",
              "      <td>7.14</td>\n",
              "      <td>41.22</td>\n",
              "      <td>1016.60</td>\n",
              "      <td>97.09</td>\n",
              "      <td>435.58</td>\n",
              "    </tr>\n",
              "    <tr>\n",
              "      <th>3383</th>\n",
              "      <td>6.22</td>\n",
              "      <td>39.85</td>\n",
              "      <td>1012.05</td>\n",
              "      <td>86.88</td>\n",
              "      <td>443.73</td>\n",
              "    </tr>\n",
              "    <tr>\n",
              "      <th>7398</th>\n",
              "      <td>7.06</td>\n",
              "      <td>41.74</td>\n",
              "      <td>1021.95</td>\n",
              "      <td>90.38</td>\n",
              "      <td>448.97</td>\n",
              "    </tr>\n",
              "    <tr>\n",
              "      <th>3895</th>\n",
              "      <td>14.69</td>\n",
              "      <td>49.64</td>\n",
              "      <td>1023.43</td>\n",
              "      <td>78.17</td>\n",
              "      <td>434.12</td>\n",
              "    </tr>\n",
              "  </tbody>\n",
              "</table>\n",
              "</div>"
            ],
            "text/plain": [
              "         AT      V       AP     RH      PE\n",
              "3117   8.74  36.30  1015.18  61.97  438.63\n",
              "7664   7.14  41.22  1016.60  97.09  435.58\n",
              "3383   6.22  39.85  1012.05  86.88  443.73\n",
              "7398   7.06  41.74  1021.95  90.38  448.97\n",
              "3895  14.69  49.64  1023.43  78.17  434.12"
            ]
          },
          "execution_count": 53,
          "metadata": {},
          "output_type": "execute_result"
        }
      ]
    },
    {
      "cell_type": "markdown",
      "metadata": {
        "id": "x_F9_M0hKfUZ"
      },
      "source": [
        "We observe that these points remain unchanged because the coefficient matrix obtained for QR factorization method is the same as normal equations method in this example."
      ]
    },
    {
      "cell_type": "markdown",
      "metadata": {
        "id": "2va9MpoX5YsI"
      },
      "source": [
        "### Randomized SVD Method"
      ]
    },
    {
      "cell_type": "code",
      "metadata": {
        "colab": {
          "base_uri": "https://localhost:8080/"
        },
        "id": "P37tpVeO5YsI",
        "outputId": "b3549d30-b17d-4596-f635-094c48c9a71e"
      },
      "source": [
        "# Randomized SVD using pseudo inverse\n",
        "start=time.process_time()\n",
        "b = np.linalg.pinv(x_new).dot(y)\n",
        "print(\"The weights obtained by QR decomposition method are: \\n\",b)\n",
        "print(\"The first term corresponds to the bias/intercept\")\n",
        "print(\"time taken is \",time.process_time() - start, \"seconds\")"
      ],
      "execution_count": null,
      "outputs": [
        {
          "name": "stdout",
          "output_type": "stream",
          "text": [
            "The weights obtained by QR decomposition method are: \n",
            " [ 4.54365009e+02 -1.47365933e+01 -2.97242952e+00  3.68677907e-01\n",
            " -2.30751179e+00]\n",
            "The first term corresponds to the bias/intercept\n",
            "time taken is  0.008457807999995737 seconds\n"
          ]
        }
      ]
    },
    {
      "cell_type": "code",
      "metadata": {
        "id": "ptgFfPcs5YsI"
      },
      "source": [
        "predicted_svd=x_new.dot(b)"
      ],
      "execution_count": null,
      "outputs": []
    },
    {
      "cell_type": "code",
      "metadata": {
        "colab": {
          "base_uri": "https://localhost:8080/"
        },
        "id": "HqCrpMQ15YsI",
        "outputId": "59610546-f87f-4c50-e6b9-ce0fe36a9af2"
      },
      "source": [
        "### Printing the mean square error\n",
        "mse_svd = ((predicted_svd - y)**2).mean(axis=0)\n",
        "mse_svd"
      ],
      "execution_count": null,
      "outputs": [
        {
          "data": {
            "text/plain": [
              "20.767397532535004"
            ]
          },
          "execution_count": 56,
          "metadata": {},
          "output_type": "execute_result"
        }
      ]
    },
    {
      "cell_type": "code",
      "metadata": {
        "colab": {
          "base_uri": "https://localhost:8080/"
        },
        "id": "C5Mj1dFSK0Xc",
        "outputId": "ecca8eef-3dcf-46bf-b812-ab94bbb7ee93"
      },
      "source": [
        "## The sum of least squared error\n",
        "print(\"The sum of least square error is\",mse_svd*9568)"
      ],
      "execution_count": null,
      "outputs": [
        {
          "name": "stdout",
          "output_type": "stream",
          "text": [
            "The sum of least square error is 198702.4595912949\n"
          ]
        }
      ]
    },
    {
      "cell_type": "markdown",
      "metadata": {
        "id": "USZXugwM5YsJ"
      },
      "source": [
        "Next we find the top 5 datapoints with maximum error"
      ]
    },
    {
      "cell_type": "code",
      "metadata": {
        "colab": {
          "base_uri": "https://localhost:8080/"
        },
        "id": "7OPnVhvX5YsJ",
        "outputId": "5d200ba8-46ae-47f0-f48c-95990db97a0a"
      },
      "source": [
        "mse_per_point_svd = ((predicted_svd - y)**2)\n",
        "mse_per_point_svd.shape"
      ],
      "execution_count": null,
      "outputs": [
        {
          "data": {
            "text/plain": [
              "(9568,)"
            ]
          },
          "execution_count": 57,
          "metadata": {},
          "output_type": "execute_result"
        }
      ]
    },
    {
      "cell_type": "code",
      "metadata": {
        "colab": {
          "base_uri": "https://localhost:8080/"
        },
        "id": "WOFt9EcE5YsK",
        "outputId": "f4885c53-b8d8-4b7d-e358-8e7da314ed62"
      },
      "source": [
        "maxerror5_index=mse_per_point_svd.argsort()[-5:][::-1]\n",
        "maxerror5_index"
      ],
      "execution_count": null,
      "outputs": [
        {
          "data": {
            "text/plain": [
              "array([3117, 7664, 3383, 7398, 3895])"
            ]
          },
          "execution_count": 58,
          "metadata": {},
          "output_type": "execute_result"
        }
      ]
    },
    {
      "cell_type": "code",
      "metadata": {
        "colab": {
          "base_uri": "https://localhost:8080/",
          "height": 195
        },
        "id": "9SjgmEFw5YsK",
        "outputId": "a623c910-085e-449f-eab6-fae816a70dac"
      },
      "source": [
        "## Printing the data points\n",
        "mydf.iloc[maxerror5_index]"
      ],
      "execution_count": null,
      "outputs": [
        {
          "data": {
            "text/html": [
              "<div>\n",
              "<style scoped>\n",
              "    .dataframe tbody tr th:only-of-type {\n",
              "        vertical-align: middle;\n",
              "    }\n",
              "\n",
              "    .dataframe tbody tr th {\n",
              "        vertical-align: top;\n",
              "    }\n",
              "\n",
              "    .dataframe thead th {\n",
              "        text-align: right;\n",
              "    }\n",
              "</style>\n",
              "<table border=\"1\" class=\"dataframe\">\n",
              "  <thead>\n",
              "    <tr style=\"text-align: right;\">\n",
              "      <th></th>\n",
              "      <th>AT</th>\n",
              "      <th>V</th>\n",
              "      <th>AP</th>\n",
              "      <th>RH</th>\n",
              "      <th>PE</th>\n",
              "    </tr>\n",
              "  </thead>\n",
              "  <tbody>\n",
              "    <tr>\n",
              "      <th>3117</th>\n",
              "      <td>8.74</td>\n",
              "      <td>36.30</td>\n",
              "      <td>1015.18</td>\n",
              "      <td>61.97</td>\n",
              "      <td>438.63</td>\n",
              "    </tr>\n",
              "    <tr>\n",
              "      <th>7664</th>\n",
              "      <td>7.14</td>\n",
              "      <td>41.22</td>\n",
              "      <td>1016.60</td>\n",
              "      <td>97.09</td>\n",
              "      <td>435.58</td>\n",
              "    </tr>\n",
              "    <tr>\n",
              "      <th>3383</th>\n",
              "      <td>6.22</td>\n",
              "      <td>39.85</td>\n",
              "      <td>1012.05</td>\n",
              "      <td>86.88</td>\n",
              "      <td>443.73</td>\n",
              "    </tr>\n",
              "    <tr>\n",
              "      <th>7398</th>\n",
              "      <td>7.06</td>\n",
              "      <td>41.74</td>\n",
              "      <td>1021.95</td>\n",
              "      <td>90.38</td>\n",
              "      <td>448.97</td>\n",
              "    </tr>\n",
              "    <tr>\n",
              "      <th>3895</th>\n",
              "      <td>14.69</td>\n",
              "      <td>49.64</td>\n",
              "      <td>1023.43</td>\n",
              "      <td>78.17</td>\n",
              "      <td>434.12</td>\n",
              "    </tr>\n",
              "  </tbody>\n",
              "</table>\n",
              "</div>"
            ],
            "text/plain": [
              "         AT      V       AP     RH      PE\n",
              "3117   8.74  36.30  1015.18  61.97  438.63\n",
              "7664   7.14  41.22  1016.60  97.09  435.58\n",
              "3383   6.22  39.85  1012.05  86.88  443.73\n",
              "7398   7.06  41.74  1021.95  90.38  448.97\n",
              "3895  14.69  49.64  1023.43  78.17  434.12"
            ]
          },
          "execution_count": 59,
          "metadata": {},
          "output_type": "execute_result"
        }
      ]
    },
    {
      "cell_type": "markdown",
      "metadata": {
        "id": "yGSA0QiO5YsL"
      },
      "source": [
        "### Observations"
      ]
    },
    {
      "cell_type": "markdown",
      "metadata": {
        "id": "WjfD2vFO5YsL"
      },
      "source": [
        "We observe that the weight coefficients and bias term are exactly the same in all three methods. Hence the predictions and points with maximum error are also the same. However the time taken to compute the weight coefficients is different. We find  time(Normal Equations)< time(Randomized SVD) < time(QR decomposition).\n",
        "Another observation is that none of the data points with maximum error are found to be outliers using the Inter Quartile Range method."
      ]
    },
    {
      "cell_type": "markdown",
      "metadata": {
        "id": "aPmHXNDM5YsL"
      },
      "source": [
        "### Verifying results using Linear Regression with Gradient Descent from sklearn"
      ]
    },
    {
      "cell_type": "code",
      "metadata": {
        "id": "IKLZov7n5YsL"
      },
      "source": [
        "from sklearn.linear_model import LinearRegression\n",
        "reg = LinearRegression().fit(X, y)"
      ],
      "execution_count": null,
      "outputs": []
    },
    {
      "cell_type": "code",
      "metadata": {
        "colab": {
          "base_uri": "https://localhost:8080/"
        },
        "id": "Dmz_4K_G5YsM",
        "outputId": "4b69607d-8a7b-48eb-b8a8-3daded82c21f"
      },
      "source": [
        "print(reg.coef_)\n",
        "print(reg.intercept_)"
      ],
      "execution_count": null,
      "outputs": [
        {
          "name": "stdout",
          "output_type": "stream",
          "text": [
            "[-14.73659333  -2.97242952   0.36867791  -2.30751179]\n",
            "454.36500940635455\n"
          ]
        }
      ]
    },
    {
      "cell_type": "code",
      "metadata": {
        "id": "OP46X8R5RGwl"
      },
      "source": [
        ""
      ],
      "execution_count": null,
      "outputs": []
    }
  ]
}