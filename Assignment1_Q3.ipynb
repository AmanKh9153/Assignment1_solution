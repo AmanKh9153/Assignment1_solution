{
  "nbformat": 4,
  "nbformat_minor": 0,
  "metadata": {
    "kernelspec": {
      "display_name": "Python 3",
      "language": "python",
      "name": "python3"
    },
    "language_info": {
      "codemirror_mode": {
        "name": "ipython",
        "version": 3
      },
      "file_extension": ".py",
      "mimetype": "text/x-python",
      "name": "python",
      "nbconvert_exporter": "python",
      "pygments_lexer": "ipython3",
      "version": "3.6.5"
    },
    "colab": {
      "name": "Q3.ipynb",
      "provenance": [],
      "collapsed_sections": [
        "Ud5ziiH8hGFL"
      ],
      "include_colab_link": true
    }
  },
  "cells": [
    {
      "cell_type": "markdown",
      "metadata": {
        "id": "view-in-github",
        "colab_type": "text"
      },
      "source": [
        "<a href=\"https://colab.research.google.com/github/AmanKh9153/Assignment1_solution/blob/main/Assignment1_Q3.ipynb\" target=\"_parent\"><img src=\"https://colab.research.google.com/assets/colab-badge.svg\" alt=\"Open In Colab\"/></a>"
      ]
    },
    {
      "cell_type": "code",
      "metadata": {
        "colab": {
          "base_uri": "https://localhost:8080/"
        },
        "id": "vU4Y0NUASrNl",
        "outputId": "49fd82cf-e993-4bda-daea-7f98e7415c2f"
      },
      "source": [
        "from google.colab import drive\n",
        "drive.mount('/content/drive')"
      ],
      "execution_count": null,
      "outputs": [
        {
          "output_type": "stream",
          "name": "stdout",
          "text": [
            "Mounted at /content/drive\n"
          ]
        }
      ]
    },
    {
      "cell_type": "markdown",
      "metadata": {
        "id": "3SInkOsmXYjW"
      },
      "source": [
        "### Importing Necessary Libraries"
      ]
    },
    {
      "cell_type": "code",
      "metadata": {
        "id": "lqT1S3SYQdDa"
      },
      "source": [
        "from bs4 import BeautifulSoup\n",
        "import json\n",
        "import os\n",
        "import pandas as pd\n",
        "import re\n",
        "import requests\n",
        "import subprocess\n",
        "import numpy as np"
      ],
      "execution_count": null,
      "outputs": []
    },
    {
      "cell_type": "code",
      "metadata": {
        "colab": {
          "base_uri": "https://localhost:8080/"
        },
        "id": "KYQGl0G_Ybkt",
        "outputId": "5aec77c2-0944-4cc3-cf2b-a84a68a2b619"
      },
      "source": [
        "!pip install datasketch"
      ],
      "execution_count": null,
      "outputs": [
        {
          "output_type": "stream",
          "name": "stdout",
          "text": [
            "Collecting datasketch\n",
            "  Downloading datasketch-1.5.3-py2.py3-none-any.whl (67 kB)\n",
            "\u001b[?25l\r\u001b[K     |████▉                           | 10 kB 17.1 MB/s eta 0:00:01\r\u001b[K     |█████████▊                      | 20 kB 22.9 MB/s eta 0:00:01\r\u001b[K     |██████████████▋                 | 30 kB 14.6 MB/s eta 0:00:01\r\u001b[K     |███████████████████▌            | 40 kB 10.3 MB/s eta 0:00:01\r\u001b[K     |████████████████████████▎       | 51 kB 5.3 MB/s eta 0:00:01\r\u001b[K     |█████████████████████████████▏  | 61 kB 5.4 MB/s eta 0:00:01\r\u001b[K     |████████████████████████████████| 67 kB 3.1 MB/s \n",
            "\u001b[?25hRequirement already satisfied: numpy>=1.11 in /usr/local/lib/python3.7/dist-packages (from datasketch) (1.19.5)\n",
            "Installing collected packages: datasketch\n",
            "Successfully installed datasketch-1.5.3\n"
          ]
        }
      ]
    },
    {
      "cell_type": "code",
      "metadata": {
        "colab": {
          "base_uri": "https://localhost:8080/"
        },
        "id": "ZbSpGTGuYidP",
        "outputId": "e0c12d36-9198-49b3-dc42-ea71701dd2f6"
      },
      "source": [
        "from datasketch import MinHash, MinHashLSH\n",
        "import nltk\n",
        "nltk.download('punkt')"
      ],
      "execution_count": null,
      "outputs": [
        {
          "output_type": "stream",
          "name": "stdout",
          "text": [
            "[nltk_data] Downloading package punkt to /root/nltk_data...\n",
            "[nltk_data]   Unzipping tokenizers/punkt.zip.\n"
          ]
        },
        {
          "output_type": "execute_result",
          "data": {
            "text/plain": [
              "True"
            ]
          },
          "metadata": {},
          "execution_count": 4
        }
      ]
    },
    {
      "cell_type": "markdown",
      "metadata": {
        "id": "1gg1Q5onQdDd"
      },
      "source": [
        "### Data Collection --> Scraping Data for years 2017 & 2020"
      ]
    },
    {
      "cell_type": "code",
      "metadata": {
        "id": "i1Rzj6qKQdDe"
      },
      "source": [
        "## Function to Scrape Data from the NIPS website for the years 2017,2020\n",
        "def get_title_abstract(base_url,year):\n",
        "    url_paper_list=base_url+'/paper/'+str(year)\n",
        "    r = requests.get(url_paper_list)\n",
        "    soup = BeautifulSoup(r.content,'html.parser')\n",
        "    uls=soup.find_all('ul')\n",
        "    data1=uls[1]\n",
        "    paper_link={}\n",
        "    for li in data1.find_all(\"li\"):\n",
        "        a=li.find('a')\n",
        "        paper_link[a.text]=a['href']    \n",
        "    paper_abstract={}\n",
        "    for key,item in paper_link.items():\n",
        "        r1=requests.get(base_url+item)\n",
        "        soup1=BeautifulSoup(r1.content,'html.parser')\n",
        "        paras=soup1.find_all('p')\n",
        "        abstract=paras[-1]\n",
        "        paper_abstract[key] = abstract\n",
        "    return paper_abstract"
      ],
      "execution_count": null,
      "outputs": []
    },
    {
      "cell_type": "markdown",
      "metadata": {
        "id": "eivp83NuYEg-"
      },
      "source": [
        "Next we save the title and abstracts of the scraped data as a dictionary indexed by paper title"
      ]
    },
    {
      "cell_type": "code",
      "metadata": {
        "id": "YCxV6t32QdDf"
      },
      "source": [
        "paper_abstract_2020=get_title_abstract('https://papers.nips.cc',2020)"
      ],
      "execution_count": null,
      "outputs": []
    },
    {
      "cell_type": "code",
      "metadata": {
        "id": "EnEdXSvmQdDg"
      },
      "source": [
        "paper_abstract_2017=get_title_abstract('https://papers.nips.cc',2017)"
      ],
      "execution_count": null,
      "outputs": []
    },
    {
      "cell_type": "code",
      "metadata": {
        "id": "FsbYs-3eQdDg",
        "outputId": "2d865806-7950-45eb-8583-0cb43d50ee6b"
      },
      "source": [
        "## Sample element\n",
        "paper_abstract_2020['Stochastic Latent Actor-Critic: Deep Reinforcement Learning with a Latent Variable Model']"
      ],
      "execution_count": null,
      "outputs": [
        {
          "data": {
            "text/plain": [
              "<p>Deep reinforcement learning (RL) algorithms can use high-capacity deep networks to learn directly from image observations. However, these high-dimensional observation spaces present a number of  challenges in practice, since the policy must now solve two problems: representation learning and task learning. In this work, we tackle these two problems separately, by explicitly learning latent representations that can accelerate reinforcement learning from images. We propose the stochastic latent actor-critic (SLAC) algorithm: a sample-efficient and high-performing RL algorithm for learning policies for complex continuous control tasks directly from high-dimensional image inputs. SLAC provides a novel and principled approach for unifying stochastic sequential models and RL into a single method, by learning a compact latent representation and then performing RL in the model's learned latent space. Our experimental evaluation demonstrates that our method outperforms both model-free and model-based alternatives in terms of final performance and sample efficiency, on a range of difficult image-based control tasks. Our code and videos of our results are available at our website.</p>"
            ]
          },
          "execution_count": 43,
          "metadata": {},
          "output_type": "execute_result"
        }
      ]
    },
    {
      "cell_type": "code",
      "metadata": {
        "id": "Q0dll1oYQdDh"
      },
      "source": [
        "## Next we save the data to a DataFrame as shown below\n",
        "paper_abstract_2020_list=[]\n",
        "paper_abstract_2017_list=[]\n",
        "for key,item in paper_abstract_2020.items():\n",
        "    temp=[key,item]\n",
        "    paper_abstract_2020_list.append(temp)\n",
        "for key,item in paper_abstract_2017.items():\n",
        "    temp=[key,item]\n",
        "    paper_abstract_2017_list.append(temp)"
      ],
      "execution_count": null,
      "outputs": []
    },
    {
      "cell_type": "code",
      "metadata": {
        "id": "yWtww4xOQdDh",
        "outputId": "82147ad3-724f-413f-be93-09af6ca6aed9"
      },
      "source": [
        "df_2020=pd.DataFrame(paper_abstract_2020_list,columns=['Title','Abstract'])\n",
        "df_2020"
      ],
      "execution_count": null,
      "outputs": [
        {
          "data": {
            "text/html": [
              "<div>\n",
              "<style scoped>\n",
              "    .dataframe tbody tr th:only-of-type {\n",
              "        vertical-align: middle;\n",
              "    }\n",
              "\n",
              "    .dataframe tbody tr th {\n",
              "        vertical-align: top;\n",
              "    }\n",
              "\n",
              "    .dataframe thead th {\n",
              "        text-align: right;\n",
              "    }\n",
              "</style>\n",
              "<table border=\"1\" class=\"dataframe\">\n",
              "  <thead>\n",
              "    <tr style=\"text-align: right;\">\n",
              "      <th></th>\n",
              "      <th>Title</th>\n",
              "      <th>Abstract</th>\n",
              "    </tr>\n",
              "  </thead>\n",
              "  <tbody>\n",
              "    <tr>\n",
              "      <th>0</th>\n",
              "      <td>A graph similarity for deep learning</td>\n",
              "      <td>[Graph neural networks (GNNs) have been succes...</td>\n",
              "    </tr>\n",
              "    <tr>\n",
              "      <th>1</th>\n",
              "      <td>An Unsupervised Information-Theoretic Perceptu...</td>\n",
              "      <td>[Tractable models of human perception have pro...</td>\n",
              "    </tr>\n",
              "    <tr>\n",
              "      <th>2</th>\n",
              "      <td>Self-Supervised MultiModal Versatile Networks</td>\n",
              "      <td>[Videos are a rich source of multi-modal super...</td>\n",
              "    </tr>\n",
              "    <tr>\n",
              "      <th>3</th>\n",
              "      <td>Benchmarking Deep Inverse Models over time, an...</td>\n",
              "      <td>[We consider the task of solving generic inver...</td>\n",
              "    </tr>\n",
              "    <tr>\n",
              "      <th>4</th>\n",
              "      <td>Off-Policy Evaluation and Learning for Externa...</td>\n",
              "      <td>[We consider the evaluation and training of a ...</td>\n",
              "    </tr>\n",
              "    <tr>\n",
              "      <th>...</th>\n",
              "      <td>...</td>\n",
              "      <td>...</td>\n",
              "    </tr>\n",
              "    <tr>\n",
              "      <th>1893</th>\n",
              "      <td>Distributed Distillation for On-Device Learning</td>\n",
              "      <td>[On-device learning promises collaborative tra...</td>\n",
              "    </tr>\n",
              "    <tr>\n",
              "      <th>1894</th>\n",
              "      <td>COOT: Cooperative Hierarchical Transformer for...</td>\n",
              "      <td>[Many real-world video-text tasks involve diff...</td>\n",
              "    </tr>\n",
              "    <tr>\n",
              "      <th>1895</th>\n",
              "      <td>Passport-aware Normalization for Deep Model Pr...</td>\n",
              "      <td>[Despite tremendous success in many applicatio...</td>\n",
              "    </tr>\n",
              "    <tr>\n",
              "      <th>1896</th>\n",
              "      <td>Sampling-Decomposable Generative Adversarial R...</td>\n",
              "      <td>[Recommendation techniques are important appro...</td>\n",
              "    </tr>\n",
              "    <tr>\n",
              "      <th>1897</th>\n",
              "      <td>Limits to Depth Efficiencies of Self-Attention</td>\n",
              "      <td>[Self-attention architectures, which are rapid...</td>\n",
              "    </tr>\n",
              "  </tbody>\n",
              "</table>\n",
              "<p>1898 rows × 2 columns</p>\n",
              "</div>"
            ],
            "text/plain": [
              "                                                  Title  \\\n",
              "0                  A graph similarity for deep learning   \n",
              "1     An Unsupervised Information-Theoretic Perceptu...   \n",
              "2         Self-Supervised MultiModal Versatile Networks   \n",
              "3     Benchmarking Deep Inverse Models over time, an...   \n",
              "4     Off-Policy Evaluation and Learning for Externa...   \n",
              "...                                                 ...   \n",
              "1893    Distributed Distillation for On-Device Learning   \n",
              "1894  COOT: Cooperative Hierarchical Transformer for...   \n",
              "1895  Passport-aware Normalization for Deep Model Pr...   \n",
              "1896  Sampling-Decomposable Generative Adversarial R...   \n",
              "1897     Limits to Depth Efficiencies of Self-Attention   \n",
              "\n",
              "                                               Abstract  \n",
              "0     [Graph neural networks (GNNs) have been succes...  \n",
              "1     [Tractable models of human perception have pro...  \n",
              "2     [Videos are a rich source of multi-modal super...  \n",
              "3     [We consider the task of solving generic inver...  \n",
              "4     [We consider the evaluation and training of a ...  \n",
              "...                                                 ...  \n",
              "1893  [On-device learning promises collaborative tra...  \n",
              "1894  [Many real-world video-text tasks involve diff...  \n",
              "1895  [Despite tremendous success in many applicatio...  \n",
              "1896  [Recommendation techniques are important appro...  \n",
              "1897  [Self-attention architectures, which are rapid...  \n",
              "\n",
              "[1898 rows x 2 columns]"
            ]
          },
          "execution_count": 45,
          "metadata": {},
          "output_type": "execute_result"
        }
      ]
    },
    {
      "cell_type": "code",
      "metadata": {
        "id": "KHitHsYvQdDi",
        "outputId": "7afbd1e2-faa0-4cc5-f782-4370a3c643c9"
      },
      "source": [
        "df_2017=pd.DataFrame(paper_abstract_2017_list,columns=['Title','Abstract'])\n",
        "df_2017"
      ],
      "execution_count": null,
      "outputs": [
        {
          "data": {
            "text/html": [
              "<div>\n",
              "<style scoped>\n",
              "    .dataframe tbody tr th:only-of-type {\n",
              "        vertical-align: middle;\n",
              "    }\n",
              "\n",
              "    .dataframe tbody tr th {\n",
              "        vertical-align: top;\n",
              "    }\n",
              "\n",
              "    .dataframe thead th {\n",
              "        text-align: right;\n",
              "    }\n",
              "</style>\n",
              "<table border=\"1\" class=\"dataframe\">\n",
              "  <thead>\n",
              "    <tr style=\"text-align: right;\">\n",
              "      <th></th>\n",
              "      <th>Title</th>\n",
              "      <th>Abstract</th>\n",
              "    </tr>\n",
              "  </thead>\n",
              "  <tbody>\n",
              "    <tr>\n",
              "      <th>0</th>\n",
              "      <td>Real Time Image Saliency for Black Box Classif...</td>\n",
              "      <td>[In this work we develop a fast saliency detec...</td>\n",
              "    </tr>\n",
              "    <tr>\n",
              "      <th>1</th>\n",
              "      <td>Joint distribution optimal transportation for ...</td>\n",
              "      <td>[This paper deals with the unsupervised domain...</td>\n",
              "    </tr>\n",
              "    <tr>\n",
              "      <th>2</th>\n",
              "      <td>Learning A Structured Optimal Bipartite Graph ...</td>\n",
              "      <td>[Co-clustering methods have been widely applie...</td>\n",
              "    </tr>\n",
              "    <tr>\n",
              "      <th>3</th>\n",
              "      <td>Learning to Inpaint for Image Compression</td>\n",
              "      <td>[We study the design of deep architectures for...</td>\n",
              "    </tr>\n",
              "    <tr>\n",
              "      <th>4</th>\n",
              "      <td>Inverse Filtering for Hidden Markov Models</td>\n",
              "      <td>[This paper considers a number of related inve...</td>\n",
              "    </tr>\n",
              "    <tr>\n",
              "      <th>...</th>\n",
              "      <td>...</td>\n",
              "      <td>...</td>\n",
              "    </tr>\n",
              "    <tr>\n",
              "      <th>674</th>\n",
              "      <td>Generating steganographic images via adversari...</td>\n",
              "      <td>[Adversarial training has proved to be competi...</td>\n",
              "    </tr>\n",
              "    <tr>\n",
              "      <th>675</th>\n",
              "      <td>NeuralFDR: Learning Discovery Thresholds from ...</td>\n",
              "      <td>[As datasets grow richer, an important challen...</td>\n",
              "    </tr>\n",
              "    <tr>\n",
              "      <th>676</th>\n",
              "      <td>A Scale Free Algorithm for Stochastic Bandits ...</td>\n",
              "      <td>[Existing strategies for finite-armed stochast...</td>\n",
              "    </tr>\n",
              "    <tr>\n",
              "      <th>677</th>\n",
              "      <td>Value Prediction Network</td>\n",
              "      <td>[This paper proposes a novel deep reinforcemen...</td>\n",
              "    </tr>\n",
              "    <tr>\n",
              "      <th>678</th>\n",
              "      <td>Detrended Partial Cross Correlation for Brain ...</td>\n",
              "      <td>[Brain connectivity analysis is a critical com...</td>\n",
              "    </tr>\n",
              "  </tbody>\n",
              "</table>\n",
              "<p>679 rows × 2 columns</p>\n",
              "</div>"
            ],
            "text/plain": [
              "                                                 Title  \\\n",
              "0    Real Time Image Saliency for Black Box Classif...   \n",
              "1    Joint distribution optimal transportation for ...   \n",
              "2    Learning A Structured Optimal Bipartite Graph ...   \n",
              "3            Learning to Inpaint for Image Compression   \n",
              "4           Inverse Filtering for Hidden Markov Models   \n",
              "..                                                 ...   \n",
              "674  Generating steganographic images via adversari...   \n",
              "675  NeuralFDR: Learning Discovery Thresholds from ...   \n",
              "676  A Scale Free Algorithm for Stochastic Bandits ...   \n",
              "677                           Value Prediction Network   \n",
              "678  Detrended Partial Cross Correlation for Brain ...   \n",
              "\n",
              "                                              Abstract  \n",
              "0    [In this work we develop a fast saliency detec...  \n",
              "1    [This paper deals with the unsupervised domain...  \n",
              "2    [Co-clustering methods have been widely applie...  \n",
              "3    [We study the design of deep architectures for...  \n",
              "4    [This paper considers a number of related inve...  \n",
              "..                                                 ...  \n",
              "674  [Adversarial training has proved to be competi...  \n",
              "675  [As datasets grow richer, an important challen...  \n",
              "676  [Existing strategies for finite-armed stochast...  \n",
              "677  [This paper proposes a novel deep reinforcemen...  \n",
              "678  [Brain connectivity analysis is a critical com...  \n",
              "\n",
              "[679 rows x 2 columns]"
            ]
          },
          "execution_count": 47,
          "metadata": {},
          "output_type": "execute_result"
        }
      ]
    },
    {
      "cell_type": "code",
      "metadata": {
        "id": "hqzrUXBsQdDi"
      },
      "source": [
        "## Finally we save the data to csv files, which we have included in the data folder in the submission\n",
        "df_2020.to_csv('Title_Abstract_2020.csv')\n",
        "df_2017.to_csv('Title_Abstract_2017.csv')"
      ],
      "execution_count": null,
      "outputs": []
    },
    {
      "cell_type": "code",
      "metadata": {
        "id": "OMWlaG0AQdDj",
        "outputId": "e7ade10a-898b-4446-9267-65f65ee83e56"
      },
      "source": [
        "paper_abstract_2020.keys()"
      ],
      "execution_count": null,
      "outputs": [
        {
          "data": {
            "text/plain": [
              "dict_keys(['A graph similarity for deep learning', 'An Unsupervised Information-Theoretic Perceptual Quality Metric', 'Self-Supervised MultiModal Versatile Networks', 'Benchmarking Deep Inverse Models over time, and the Neural-Adjoint method'])"
            ]
          },
          "execution_count": 38,
          "metadata": {},
          "output_type": "execute_result"
        }
      ]
    },
    {
      "cell_type": "markdown",
      "metadata": {
        "id": "iAgAvZlwQdDj"
      },
      "source": [
        "### Reading the Data and Preprocessing steps"
      ]
    },
    {
      "cell_type": "code",
      "metadata": {
        "id": "emTbiW8wS7O0"
      },
      "source": [
        "## Setting the root folder containing data\n",
        "root_folder='/content/drive/MyDrive/DS503Assignment1_11841160_11841200/Q3'"
      ],
      "execution_count": null,
      "outputs": []
    },
    {
      "cell_type": "code",
      "metadata": {
        "id": "y9rJ1qGY0BfO"
      },
      "source": [
        ""
      ],
      "execution_count": null,
      "outputs": []
    },
    {
      "cell_type": "code",
      "metadata": {
        "id": "Ch-8egaNQdDk",
        "colab": {
          "base_uri": "https://localhost:8080/",
          "height": 770
        },
        "outputId": "693f7576-79e0-4d9a-ae80-865cfb15b9b5"
      },
      "source": [
        "## Reading the papers (1987-2016) to a dataframe\n",
        "## Uncomment this for original dataset\n",
        "# papers_19872016=pd.read_csv(root_folder+'/archive/papers.csv')\n",
        "##\n",
        "## Dataframe containing missing abstracts as well. (Using additional data provided)\n",
        "papers_19872016=pd.read_csv(root_folder+'/AdditionalDataProvided/Dataset3.csv')\n",
        "papers_19872016"
      ],
      "execution_count": null,
      "outputs": [
        {
          "output_type": "execute_result",
          "data": {
            "text/html": [
              "<div>\n",
              "<style scoped>\n",
              "    .dataframe tbody tr th:only-of-type {\n",
              "        vertical-align: middle;\n",
              "    }\n",
              "\n",
              "    .dataframe tbody tr th {\n",
              "        vertical-align: top;\n",
              "    }\n",
              "\n",
              "    .dataframe thead th {\n",
              "        text-align: right;\n",
              "    }\n",
              "</style>\n",
              "<table border=\"1\" class=\"dataframe\">\n",
              "  <thead>\n",
              "    <tr style=\"text-align: right;\">\n",
              "      <th></th>\n",
              "      <th>Unnamed: 0</th>\n",
              "      <th>id</th>\n",
              "      <th>year</th>\n",
              "      <th>title</th>\n",
              "      <th>event_type</th>\n",
              "      <th>pdf_name</th>\n",
              "      <th>abstract</th>\n",
              "      <th>paper_text</th>\n",
              "    </tr>\n",
              "  </thead>\n",
              "  <tbody>\n",
              "    <tr>\n",
              "      <th>0</th>\n",
              "      <td>0</td>\n",
              "      <td>1</td>\n",
              "      <td>1987</td>\n",
              "      <td>Self-Organization of Associative Database and ...</td>\n",
              "      <td>NaN</td>\n",
              "      <td>1-self-organization-of-associative-database-an...</td>\n",
              "      <td>An efficient method of self-organizing associa...</td>\n",
              "      <td>767\\n\\nSELF-ORGANIZATION OF ASSOCIATIVE DATABA...</td>\n",
              "    </tr>\n",
              "    <tr>\n",
              "      <th>1</th>\n",
              "      <td>1</td>\n",
              "      <td>10</td>\n",
              "      <td>1987</td>\n",
              "      <td>A Mean Field Theory of Layer IV of Visual Cort...</td>\n",
              "      <td>NaN</td>\n",
              "      <td>10-a-mean-field-theory-of-layer-iv-of-visual-c...</td>\n",
              "      <td>A single cell theory for the development of se...</td>\n",
              "      <td>683\\n\\nA MEAN FIELD THEORY OF LAYER IV OF VISU...</td>\n",
              "    </tr>\n",
              "    <tr>\n",
              "      <th>2</th>\n",
              "      <td>2</td>\n",
              "      <td>100</td>\n",
              "      <td>1988</td>\n",
              "      <td>Storing Covariance by the Associative Long-Ter...</td>\n",
              "      <td>NaN</td>\n",
              "      <td>100-storing-covariance-by-the-associative-long...</td>\n",
              "      <td>\\nIn modeling studies or memory based on neura...</td>\n",
              "      <td>394\\n\\nSTORING COVARIANCE BY THE ASSOCIATIVE\\n...</td>\n",
              "    </tr>\n",
              "    <tr>\n",
              "      <th>3</th>\n",
              "      <td>3</td>\n",
              "      <td>1000</td>\n",
              "      <td>1994</td>\n",
              "      <td>Bayesian Query Construction for Neural Network...</td>\n",
              "      <td>NaN</td>\n",
              "      <td>1000-bayesian-query-construction-for-neural-ne...</td>\n",
              "      <td>If data collection is costly, there is much to...</td>\n",
              "      <td>Bayesian Query Construction for Neural\\nNetwor...</td>\n",
              "    </tr>\n",
              "    <tr>\n",
              "      <th>4</th>\n",
              "      <td>4</td>\n",
              "      <td>1001</td>\n",
              "      <td>1994</td>\n",
              "      <td>Neural Network Ensembles, Cross Validation, an...</td>\n",
              "      <td>NaN</td>\n",
              "      <td>1001-neural-network-ensembles-cross-validation...</td>\n",
              "      <td>Learning of continuous valued functions using ...</td>\n",
              "      <td>Neural Network Ensembles, Cross\\nValidation, a...</td>\n",
              "    </tr>\n",
              "    <tr>\n",
              "      <th>...</th>\n",
              "      <td>...</td>\n",
              "      <td>...</td>\n",
              "      <td>...</td>\n",
              "      <td>...</td>\n",
              "      <td>...</td>\n",
              "      <td>...</td>\n",
              "      <td>...</td>\n",
              "      <td>...</td>\n",
              "    </tr>\n",
              "    <tr>\n",
              "      <th>7136</th>\n",
              "      <td>7236</td>\n",
              "      <td>994</td>\n",
              "      <td>1994</td>\n",
              "      <td>Single Transistor Learning Synapses</td>\n",
              "      <td>NaN</td>\n",
              "      <td>994-single-transistor-learning-synapses.pdf</td>\n",
              "      <td>We describe single-transistor silicon synapses...</td>\n",
              "      <td>Single Transistor Learning Synapses\\n\\nPaul Ha...</td>\n",
              "    </tr>\n",
              "    <tr>\n",
              "      <th>7137</th>\n",
              "      <td>7237</td>\n",
              "      <td>996</td>\n",
              "      <td>1994</td>\n",
              "      <td>Bias, Variance and the Combination of Least Sq...</td>\n",
              "      <td>NaN</td>\n",
              "      <td>996-bias-variance-and-the-combination-of-least...</td>\n",
              "      <td>We consider the effect of combining several le...</td>\n",
              "      <td>Bias, Variance and the Combination of\\nLeast S...</td>\n",
              "    </tr>\n",
              "    <tr>\n",
              "      <th>7138</th>\n",
              "      <td>7238</td>\n",
              "      <td>997</td>\n",
              "      <td>1994</td>\n",
              "      <td>A Real Time Clustering CMOS Neural Engine</td>\n",
              "      <td>NaN</td>\n",
              "      <td>997-a-real-time-clustering-cmos-neural-engine.pdf</td>\n",
              "      <td>We describe an analog VLSI implementation of t...</td>\n",
              "      <td>A Real Time Clustering CMOS\\nNeural Engine\\nT....</td>\n",
              "    </tr>\n",
              "    <tr>\n",
              "      <th>7139</th>\n",
              "      <td>7239</td>\n",
              "      <td>998</td>\n",
              "      <td>1994</td>\n",
              "      <td>Learning direction in global motion: two class...</td>\n",
              "      <td>NaN</td>\n",
              "      <td>998-learning-direction-in-global-motion-two-cl...</td>\n",
              "      <td>Perceptual learning is defined as fast improve...</td>\n",
              "      <td>Learning direction in global motion: two\\nclas...</td>\n",
              "    </tr>\n",
              "    <tr>\n",
              "      <th>7140</th>\n",
              "      <td>7240</td>\n",
              "      <td>999</td>\n",
              "      <td>1994</td>\n",
              "      <td>Correlation and Interpolation Networks for Rea...</td>\n",
              "      <td>NaN</td>\n",
              "      <td>999-correlation-and-interpolation-networks-for...</td>\n",
              "      <td>We describe a framework for real-time tracking...</td>\n",
              "      <td>Correlation and Interpolation Networks for\\nRe...</td>\n",
              "    </tr>\n",
              "  </tbody>\n",
              "</table>\n",
              "<p>7141 rows × 8 columns</p>\n",
              "</div>"
            ],
            "text/plain": [
              "      Unnamed: 0  ...                                         paper_text\n",
              "0              0  ...  767\\n\\nSELF-ORGANIZATION OF ASSOCIATIVE DATABA...\n",
              "1              1  ...  683\\n\\nA MEAN FIELD THEORY OF LAYER IV OF VISU...\n",
              "2              2  ...  394\\n\\nSTORING COVARIANCE BY THE ASSOCIATIVE\\n...\n",
              "3              3  ...  Bayesian Query Construction for Neural\\nNetwor...\n",
              "4              4  ...  Neural Network Ensembles, Cross\\nValidation, a...\n",
              "...          ...  ...                                                ...\n",
              "7136        7236  ...  Single Transistor Learning Synapses\\n\\nPaul Ha...\n",
              "7137        7237  ...  Bias, Variance and the Combination of\\nLeast S...\n",
              "7138        7238  ...  A Real Time Clustering CMOS\\nNeural Engine\\nT....\n",
              "7139        7239  ...  Learning direction in global motion: two\\nclas...\n",
              "7140        7240  ...  Correlation and Interpolation Networks for\\nRe...\n",
              "\n",
              "[7141 rows x 8 columns]"
            ]
          },
          "metadata": {},
          "execution_count": 9
        }
      ]
    },
    {
      "cell_type": "code",
      "metadata": {
        "id": "otUN1GhpQdDk",
        "colab": {
          "base_uri": "https://localhost:8080/",
          "height": 770
        },
        "outputId": "6a022433-710d-449c-8ea5-c3ccad87fd59"
      },
      "source": [
        "## Removing rows not containing abstract\n",
        "papers_19872016=papers_19872016[papers_19872016['abstract']!='Abstract Missing'].reset_index()\n",
        "papers_19872016"
      ],
      "execution_count": null,
      "outputs": [
        {
          "output_type": "execute_result",
          "data": {
            "text/html": [
              "<div>\n",
              "<style scoped>\n",
              "    .dataframe tbody tr th:only-of-type {\n",
              "        vertical-align: middle;\n",
              "    }\n",
              "\n",
              "    .dataframe tbody tr th {\n",
              "        vertical-align: top;\n",
              "    }\n",
              "\n",
              "    .dataframe thead th {\n",
              "        text-align: right;\n",
              "    }\n",
              "</style>\n",
              "<table border=\"1\" class=\"dataframe\">\n",
              "  <thead>\n",
              "    <tr style=\"text-align: right;\">\n",
              "      <th></th>\n",
              "      <th>index</th>\n",
              "      <th>Unnamed: 0</th>\n",
              "      <th>id</th>\n",
              "      <th>year</th>\n",
              "      <th>title</th>\n",
              "      <th>event_type</th>\n",
              "      <th>pdf_name</th>\n",
              "      <th>abstract</th>\n",
              "      <th>paper_text</th>\n",
              "    </tr>\n",
              "  </thead>\n",
              "  <tbody>\n",
              "    <tr>\n",
              "      <th>0</th>\n",
              "      <td>0</td>\n",
              "      <td>0</td>\n",
              "      <td>1</td>\n",
              "      <td>1987</td>\n",
              "      <td>Self-Organization of Associative Database and ...</td>\n",
              "      <td>NaN</td>\n",
              "      <td>1-self-organization-of-associative-database-an...</td>\n",
              "      <td>An efficient method of self-organizing associa...</td>\n",
              "      <td>767\\n\\nSELF-ORGANIZATION OF ASSOCIATIVE DATABA...</td>\n",
              "    </tr>\n",
              "    <tr>\n",
              "      <th>1</th>\n",
              "      <td>1</td>\n",
              "      <td>1</td>\n",
              "      <td>10</td>\n",
              "      <td>1987</td>\n",
              "      <td>A Mean Field Theory of Layer IV of Visual Cort...</td>\n",
              "      <td>NaN</td>\n",
              "      <td>10-a-mean-field-theory-of-layer-iv-of-visual-c...</td>\n",
              "      <td>A single cell theory for the development of se...</td>\n",
              "      <td>683\\n\\nA MEAN FIELD THEORY OF LAYER IV OF VISU...</td>\n",
              "    </tr>\n",
              "    <tr>\n",
              "      <th>2</th>\n",
              "      <td>2</td>\n",
              "      <td>2</td>\n",
              "      <td>100</td>\n",
              "      <td>1988</td>\n",
              "      <td>Storing Covariance by the Associative Long-Ter...</td>\n",
              "      <td>NaN</td>\n",
              "      <td>100-storing-covariance-by-the-associative-long...</td>\n",
              "      <td>\\nIn modeling studies or memory based on neura...</td>\n",
              "      <td>394\\n\\nSTORING COVARIANCE BY THE ASSOCIATIVE\\n...</td>\n",
              "    </tr>\n",
              "    <tr>\n",
              "      <th>3</th>\n",
              "      <td>3</td>\n",
              "      <td>3</td>\n",
              "      <td>1000</td>\n",
              "      <td>1994</td>\n",
              "      <td>Bayesian Query Construction for Neural Network...</td>\n",
              "      <td>NaN</td>\n",
              "      <td>1000-bayesian-query-construction-for-neural-ne...</td>\n",
              "      <td>If data collection is costly, there is much to...</td>\n",
              "      <td>Bayesian Query Construction for Neural\\nNetwor...</td>\n",
              "    </tr>\n",
              "    <tr>\n",
              "      <th>4</th>\n",
              "      <td>4</td>\n",
              "      <td>4</td>\n",
              "      <td>1001</td>\n",
              "      <td>1994</td>\n",
              "      <td>Neural Network Ensembles, Cross Validation, an...</td>\n",
              "      <td>NaN</td>\n",
              "      <td>1001-neural-network-ensembles-cross-validation...</td>\n",
              "      <td>Learning of continuous valued functions using ...</td>\n",
              "      <td>Neural Network Ensembles, Cross\\nValidation, a...</td>\n",
              "    </tr>\n",
              "    <tr>\n",
              "      <th>...</th>\n",
              "      <td>...</td>\n",
              "      <td>...</td>\n",
              "      <td>...</td>\n",
              "      <td>...</td>\n",
              "      <td>...</td>\n",
              "      <td>...</td>\n",
              "      <td>...</td>\n",
              "      <td>...</td>\n",
              "      <td>...</td>\n",
              "    </tr>\n",
              "    <tr>\n",
              "      <th>7136</th>\n",
              "      <td>7136</td>\n",
              "      <td>7236</td>\n",
              "      <td>994</td>\n",
              "      <td>1994</td>\n",
              "      <td>Single Transistor Learning Synapses</td>\n",
              "      <td>NaN</td>\n",
              "      <td>994-single-transistor-learning-synapses.pdf</td>\n",
              "      <td>We describe single-transistor silicon synapses...</td>\n",
              "      <td>Single Transistor Learning Synapses\\n\\nPaul Ha...</td>\n",
              "    </tr>\n",
              "    <tr>\n",
              "      <th>7137</th>\n",
              "      <td>7137</td>\n",
              "      <td>7237</td>\n",
              "      <td>996</td>\n",
              "      <td>1994</td>\n",
              "      <td>Bias, Variance and the Combination of Least Sq...</td>\n",
              "      <td>NaN</td>\n",
              "      <td>996-bias-variance-and-the-combination-of-least...</td>\n",
              "      <td>We consider the effect of combining several le...</td>\n",
              "      <td>Bias, Variance and the Combination of\\nLeast S...</td>\n",
              "    </tr>\n",
              "    <tr>\n",
              "      <th>7138</th>\n",
              "      <td>7138</td>\n",
              "      <td>7238</td>\n",
              "      <td>997</td>\n",
              "      <td>1994</td>\n",
              "      <td>A Real Time Clustering CMOS Neural Engine</td>\n",
              "      <td>NaN</td>\n",
              "      <td>997-a-real-time-clustering-cmos-neural-engine.pdf</td>\n",
              "      <td>We describe an analog VLSI implementation of t...</td>\n",
              "      <td>A Real Time Clustering CMOS\\nNeural Engine\\nT....</td>\n",
              "    </tr>\n",
              "    <tr>\n",
              "      <th>7139</th>\n",
              "      <td>7139</td>\n",
              "      <td>7239</td>\n",
              "      <td>998</td>\n",
              "      <td>1994</td>\n",
              "      <td>Learning direction in global motion: two class...</td>\n",
              "      <td>NaN</td>\n",
              "      <td>998-learning-direction-in-global-motion-two-cl...</td>\n",
              "      <td>Perceptual learning is defined as fast improve...</td>\n",
              "      <td>Learning direction in global motion: two\\nclas...</td>\n",
              "    </tr>\n",
              "    <tr>\n",
              "      <th>7140</th>\n",
              "      <td>7140</td>\n",
              "      <td>7240</td>\n",
              "      <td>999</td>\n",
              "      <td>1994</td>\n",
              "      <td>Correlation and Interpolation Networks for Rea...</td>\n",
              "      <td>NaN</td>\n",
              "      <td>999-correlation-and-interpolation-networks-for...</td>\n",
              "      <td>We describe a framework for real-time tracking...</td>\n",
              "      <td>Correlation and Interpolation Networks for\\nRe...</td>\n",
              "    </tr>\n",
              "  </tbody>\n",
              "</table>\n",
              "<p>7141 rows × 9 columns</p>\n",
              "</div>"
            ],
            "text/plain": [
              "      index  ...                                         paper_text\n",
              "0         0  ...  767\\n\\nSELF-ORGANIZATION OF ASSOCIATIVE DATABA...\n",
              "1         1  ...  683\\n\\nA MEAN FIELD THEORY OF LAYER IV OF VISU...\n",
              "2         2  ...  394\\n\\nSTORING COVARIANCE BY THE ASSOCIATIVE\\n...\n",
              "3         3  ...  Bayesian Query Construction for Neural\\nNetwor...\n",
              "4         4  ...  Neural Network Ensembles, Cross\\nValidation, a...\n",
              "...     ...  ...                                                ...\n",
              "7136   7136  ...  Single Transistor Learning Synapses\\n\\nPaul Ha...\n",
              "7137   7137  ...  Bias, Variance and the Combination of\\nLeast S...\n",
              "7138   7138  ...  A Real Time Clustering CMOS\\nNeural Engine\\nT....\n",
              "7139   7139  ...  Learning direction in global motion: two\\nclas...\n",
              "7140   7140  ...  Correlation and Interpolation Networks for\\nRe...\n",
              "\n",
              "[7141 rows x 9 columns]"
            ]
          },
          "metadata": {},
          "execution_count": 10
        }
      ]
    },
    {
      "cell_type": "code",
      "metadata": {
        "id": "UUbTvCymQdDk"
      },
      "source": [
        "## Saving the title concatenated with abstract of each paper to a dictionary indexed by paper title\n",
        "papers_19872016_dic={}\n",
        "for i,row in papers_19872016.iterrows():\n",
        "    abstract=row['abstract']\n",
        "    abstract=abstract.replace('\\n','')\n",
        "    abstract=abstract.replace('\\r','')\n",
        "    papers_19872016_dic[row['title']]=str(row['title'])+' '+abstract"
      ],
      "execution_count": null,
      "outputs": []
    },
    {
      "cell_type": "code",
      "metadata": {
        "id": "aJ3wha48QdDl"
      },
      "source": [
        "#papers_19872016_dic"
      ],
      "execution_count": null,
      "outputs": []
    },
    {
      "cell_type": "code",
      "metadata": {
        "id": "eS5iPLNNQdDm"
      },
      "source": [
        "## Helper function for preprocessing. It will return an array containing tokens (unigrams) for the title,abstract of each paper\n",
        "import string\n",
        "from nltk import word_tokenize\n",
        "def preprocess(mydic):\n",
        "    temp={}\n",
        "    for key,item in mydic.items():\n",
        "        item = item.lower()\n",
        "        item = \"\".join([char for char in item if char not in string.punctuation])\n",
        "        item = word_tokenize(item)\n",
        "        temp[key] = item\n",
        "    return temp"
      ],
      "execution_count": null,
      "outputs": []
    },
    {
      "cell_type": "code",
      "metadata": {
        "colab": {
          "base_uri": "https://localhost:8080/"
        },
        "id": "tyiO7UjfWEkg",
        "outputId": "62b540e2-5f4c-4c74-8113-d29b25cb49a4"
      },
      "source": [
        "## Example usecase of preprocess\n",
        "preprocess({\"test\":\"Hi this is a TEst 932\"})"
      ],
      "execution_count": null,
      "outputs": [
        {
          "output_type": "execute_result",
          "data": {
            "text/plain": [
              "{'test': ['hi', 'this', 'is', 'a', 'test', '932']}"
            ]
          },
          "metadata": {},
          "execution_count": 19
        }
      ]
    },
    {
      "cell_type": "code",
      "metadata": {
        "id": "qMsu9XgqUaxk"
      },
      "source": [
        "## Helper function for generating kshingles (word shingles or phrases)\n",
        "def kshingles(mydic,k=1):\n",
        "  temp={}\n",
        "  for key,item in mydic.items():\n",
        "    t1=[]\n",
        "    if len(item) <= k or k==1:\n",
        "      t1=item\n",
        "    else:\n",
        "      for i in range(0,len(item)-k+1):\n",
        "        if i == len(item)-k:\n",
        "          temp_str=''\n",
        "          for w in item[i:]:\n",
        "            temp_str+=w\n",
        "          t1.append(temp_str)\n",
        "        else:\n",
        "          temp_str=''\n",
        "          for w in item[i:i+k]:\n",
        "            temp_str+=w\n",
        "          t1.append(temp_str)\n",
        "    temp[key]=t1\n",
        "  return temp"
      ],
      "execution_count": null,
      "outputs": []
    },
    {
      "cell_type": "code",
      "metadata": {
        "colab": {
          "base_uri": "https://localhost:8080/"
        },
        "id": "clEPnLMuXOy9",
        "outputId": "4287dc8f-e08a-4a81-ddd3-20a32a05e88f"
      },
      "source": [
        "## Example use case of kshingles\n",
        "kshingles({'a1':['hi','I','am','XYZ'],'a2':['a1','b1','c1','d1','e1']},k=2)"
      ],
      "execution_count": null,
      "outputs": [
        {
          "output_type": "execute_result",
          "data": {
            "text/plain": [
              "{'a1': ['hiI', 'Iam', 'amXYZ'], 'a2': ['a1b1', 'b1c1', 'c1d1', 'd1e1']}"
            ]
          },
          "metadata": {},
          "execution_count": 21
        }
      ]
    },
    {
      "cell_type": "code",
      "metadata": {
        "id": "m9xGSMjeQdDm"
      },
      "source": [
        "## Helper function for computing minhash, perms specifies the number of permutations\n",
        "def computeminhash(mydic,perms=128):\n",
        "    temp={}\n",
        "    for key,item in mydic.items():\n",
        "        m1 = MinHash(num_perm=perms)\n",
        "        for d in set(item):\n",
        "            m1.update(d.encode('utf8'))\n",
        "        temp[key]=m1\n",
        "    return temp"
      ],
      "execution_count": null,
      "outputs": []
    },
    {
      "cell_type": "code",
      "metadata": {
        "id": "C2Oc4KEbQdDn"
      },
      "source": [
        "#preprocess({'Algorithms for Non-negative Matrix Factorization': 'Algorithms for Non-negative Matrix Factorization Non-negative matrix factorization (NMF) has previously been shown to be a useful decomposition for multivariate data. Two different multi- plicative algorithms for NMF are analyzed. They differ only slightly in the multiplicative factor used in the update rules. One algorithm can be shown to minimize the conventional least squares error while the other minimizes the generalized Kullback-Leibler divergence. The monotonic convergence of both algorithms can be proven using an auxiliary func- tion analogous to that used for proving convergence of the Expectation- Maximization algorithm. The algorithms can also be interpreted as diag- onally rescaled gradient descent, where the rescaling factor is optimally chosen to ensure convergence. '})"
      ],
      "execution_count": null,
      "outputs": []
    },
    {
      "cell_type": "code",
      "metadata": {
        "id": "ycZBwjnjQdDn"
      },
      "source": [
        "## Preprocessing and generating minhash. We have used unigrams for further analysis but we can change k to specify k shingles.\n",
        "papers_19872016_dic=preprocess(papers_19872016_dic)\n",
        "papers_19872016_dic_k=kshingles(papers_19872016_dic,k=1)\n",
        "papers_19872016_dic_minhash=computeminhash(papers_19872016_dic_k)"
      ],
      "execution_count": null,
      "outputs": []
    },
    {
      "cell_type": "markdown",
      "metadata": {
        "id": "lLEMq3H2bGgD"
      },
      "source": [
        "### Building LSH Data Structure"
      ]
    },
    {
      "cell_type": "markdown",
      "metadata": {
        "id": "lYYOM8_lbKGa"
      },
      "source": [
        "Here we show a use case to build LSH Data Structure for the papers form 1987-2016. However, we build LSH Data Structures again for each of the following questions following our strategy as specified."
      ]
    },
    {
      "cell_type": "code",
      "metadata": {
        "id": "7-KOrtv6QdDo",
        "colab": {
          "base_uri": "https://localhost:8080/"
        },
        "outputId": "dd885424-b335-456b-e882-b9a50164e014"
      },
      "source": [
        "## The threshold specifies the jaccard similarity. Num_Perm specifies the number of permutations used for getting the signature.\n",
        "lsh = MinHashLSH(threshold=0.3, num_perm=128)\n",
        "with lsh.insertion_session() as session:\n",
        "    for key, minhash in papers_19872016_dic_minhash.items():\n",
        "          session.insert(key, minhash)\n",
        "print(\"results for querying an example using LSH\\n\",lsh.query(list(papers_19872016_dic_minhash.values())[2]))"
      ],
      "execution_count": null,
      "outputs": [
        {
          "output_type": "stream",
          "name": "stdout",
          "text": [
            "results for querying an example using LSH\n",
            " ['Storing Covariance by the Associative Long-Term Potentiation and Depression of Synaptic Strengths in the Hippocampus', 'Cell Assemblies in Large Sparse Inhibitory Networks of Biologically Realistic Spiking Neurons', 'STDP enables spiking neurons to detect hidden causes of their inputs', 'Estimating time-varying input signals and ion channel states from a single voltage trace of a neuron', 'Clustered factor analysis of multineuronal spike data', 'Homeostatic plasticity in Bayesian spiking networks as Expectation Maximization with posterior constraints', 'Reducing Spike Train Variability: A Computational Theory Of Spike-Timing Dependent Plasticity']\n"
          ]
        }
      ]
    },
    {
      "cell_type": "markdown",
      "metadata": {
        "id": "pSaGbEYDQdDp"
      },
      "source": [
        "### Original Papers in 2017"
      ]
    },
    {
      "cell_type": "code",
      "metadata": {
        "id": "vUBGp0PfQdDp"
      },
      "source": [
        "## We build three LSH data structures with different jaccard similarity levels, following the strategy specified in the doc.\n",
        "lsh = MinHashLSH(threshold=0.3, num_perm=128)\n",
        "lsh1 = MinHashLSH(threshold=0.6, num_perm=128)\n",
        "lsh2 = MinHashLSH(threshold=0.9, num_perm=128)\n",
        "with lsh.insertion_session() as session:\n",
        "    for key, minhash in papers_19872016_dic_minhash.items():\n",
        "          session.insert(key, minhash)\n",
        "with lsh1.insertion_session() as session:\n",
        "    for key, minhash in papers_19872016_dic_minhash.items():\n",
        "          session.insert(key, minhash)\n",
        "with lsh2.insertion_session() as session:\n",
        "    for key, minhash in papers_19872016_dic_minhash.items():\n",
        "          session.insert(key, minhash)"
      ],
      "execution_count": null,
      "outputs": []
    },
    {
      "cell_type": "code",
      "metadata": {
        "id": "a2OElO_nQdDp"
      },
      "source": [
        "## Reading the data for papers in 2017 to a dictionary indexed by title of the paper.\n",
        "papers_2017=pd.read_csv(root_folder+'/Title_Abstract_2017.csv')\n",
        "papers_2017_dic={}\n",
        "count=0\n",
        "for i,row in papers_2017.iterrows():\n",
        "    abstract=row['Abstract']\n",
        "    abstract=abstract.replace('<p>','').replace('</p>','').replace('<em>','').replace('</em>','')\n",
        "    papers_2017_dic[row['Title']]=row['Title']+' '+row['Abstract']"
      ],
      "execution_count": null,
      "outputs": []
    },
    {
      "cell_type": "code",
      "metadata": {
        "id": "3b58MHK3QdDq"
      },
      "source": [
        "## Performing the necessary preprocessing steps and computing minhash. We have used unigrams.\n",
        "papers_2017_dic=preprocess(papers_2017_dic)\n",
        "papers_2017_dic_k=kshingles(papers_2017_dic,k=1)\n",
        "papers_2017_dic_minhash=computeminhash(papers_2017_dic_k,128)"
      ],
      "execution_count": null,
      "outputs": []
    },
    {
      "cell_type": "code",
      "metadata": {
        "id": "8qBDEsCgQdDq"
      },
      "source": [
        "#lsh.query(list(papers_2017_dic_minhash.values())[0])"
      ],
      "execution_count": null,
      "outputs": []
    },
    {
      "cell_type": "code",
      "metadata": {
        "id": "_AS2v4BOQdDq"
      },
      "source": [
        "## Defining our originality score (Kindly refer to pdf submitted). We give a score based on similar documents retrieved at different jaccard similarity levels.\n",
        "def get_originality_score(minhash):\n",
        "    list1=lsh.query(minhash)\n",
        "    list2=lsh.query(minhash)\n",
        "    list3=lsh.query(minhash)\n",
        "    score=len(list1)*1 + len(list2)*5 + len(list3)*10\n",
        "    return 1/score"
      ],
      "execution_count": null,
      "outputs": []
    },
    {
      "cell_type": "code",
      "metadata": {
        "id": "xrly4ycVQdDr"
      },
      "source": [
        "## Storing the scores for different papers in 2017\n",
        "paper_score_dic={}\n",
        "for key,item in papers_2017_dic_minhash.items():\n",
        "    paper_score_dic[key] = get_originality_score(item)"
      ],
      "execution_count": null,
      "outputs": []
    },
    {
      "cell_type": "code",
      "metadata": {
        "id": "Pd0mkrvqQdDr",
        "colab": {
          "base_uri": "https://localhost:8080/"
        },
        "outputId": "e47194dc-4ba2-44cf-b072-dd8235112846"
      },
      "source": [
        "## The top 10 original papers based on our scoring function are as follows\n",
        "def print_top_k(mydic,k=10):\n",
        "  count=0\n",
        "  print(\"Paper\",\":\",\"Score\")\n",
        "  for key,value in mydic.items():\n",
        "    if count==k:\n",
        "      break\n",
        "    print(key,\":\",\"{:.4f}\".format(value))\n",
        "    count=count+1\n",
        "print_top_k(dict(sorted(paper_score_dic.items(), key=lambda item: item[1], reverse=True)))"
      ],
      "execution_count": null,
      "outputs": [
        {
          "output_type": "stream",
          "name": "stdout",
          "text": [
            "Paper : Score\n",
            "Maxing and Ranking with Few Assumptions : 0.0625\n",
            "Exploring Generalization in Deep Learning : 0.0312\n",
            "Attention is All you Need : 0.0208\n",
            "A General Framework for Robust Interactive Learning : 0.0208\n",
            "ELF: An Extensive, Lightweight and Flexible Research Platform for Real-time Strategy Games : 0.0208\n",
            "Stochastic Approximation for Canonical Correlation Analysis : 0.0156\n",
            "EEG-GRAPH: A Factor-Graph-Based Model for Capturing Spatial, Temporal, and Observational Relationships in Electroencephalograms : 0.0125\n",
            "On the Power of Truncated SVD for General High-rank Matrix Estimation Problems : 0.0104\n",
            "Spectrally-normalized margin bounds for neural networks : 0.0104\n",
            "Convolutional Phase Retrieval : 0.0089\n"
          ]
        }
      ]
    },
    {
      "cell_type": "markdown",
      "metadata": {
        "id": "4LTHBqg8QdDs"
      },
      "source": [
        "### Classic Papers"
      ]
    },
    {
      "cell_type": "markdown",
      "metadata": {
        "id": "GAQHB2lqebp3"
      },
      "source": [
        "In this section we find the top classic papers which are relevant in 2020."
      ]
    },
    {
      "cell_type": "code",
      "metadata": {
        "id": "zMBMwUolQdDs"
      },
      "source": [
        "from datasketch import MinHashLSHForest, MinHash\n",
        "# We use MinHashLSHForest from datasketch to answer a top-k query.\n",
        "forest = MinHashLSHForest(num_perm=128)\n",
        "for key,minhash in papers_19872016_dic_minhash.items():\n",
        "    forest.add(key,minhash)\n",
        "forest.index()"
      ],
      "execution_count": null,
      "outputs": []
    },
    {
      "cell_type": "code",
      "metadata": {
        "id": "9gRded2HQdDs",
        "colab": {
          "base_uri": "https://localhost:8080/",
          "height": 417
        },
        "outputId": "c4c54491-9617-467d-dd2d-c393130bd1b9"
      },
      "source": [
        "## Reading the papers of 2020 to a DataFrame\n",
        "papers_2020 = pd.read_csv(root_folder+'/Title_Abstract_2020.csv')\n",
        "papers_2020"
      ],
      "execution_count": null,
      "outputs": [
        {
          "output_type": "execute_result",
          "data": {
            "text/html": [
              "<div>\n",
              "<style scoped>\n",
              "    .dataframe tbody tr th:only-of-type {\n",
              "        vertical-align: middle;\n",
              "    }\n",
              "\n",
              "    .dataframe tbody tr th {\n",
              "        vertical-align: top;\n",
              "    }\n",
              "\n",
              "    .dataframe thead th {\n",
              "        text-align: right;\n",
              "    }\n",
              "</style>\n",
              "<table border=\"1\" class=\"dataframe\">\n",
              "  <thead>\n",
              "    <tr style=\"text-align: right;\">\n",
              "      <th></th>\n",
              "      <th>Unnamed: 0</th>\n",
              "      <th>Title</th>\n",
              "      <th>Abstract</th>\n",
              "    </tr>\n",
              "  </thead>\n",
              "  <tbody>\n",
              "    <tr>\n",
              "      <th>0</th>\n",
              "      <td>0</td>\n",
              "      <td>A graph similarity for deep learning</td>\n",
              "      <td>&lt;p&gt;Graph neural networks (GNNs) have been succ...</td>\n",
              "    </tr>\n",
              "    <tr>\n",
              "      <th>1</th>\n",
              "      <td>1</td>\n",
              "      <td>An Unsupervised Information-Theoretic Perceptu...</td>\n",
              "      <td>&lt;p&gt;Tractable models of human perception have p...</td>\n",
              "    </tr>\n",
              "    <tr>\n",
              "      <th>2</th>\n",
              "      <td>2</td>\n",
              "      <td>Self-Supervised MultiModal Versatile Networks</td>\n",
              "      <td>&lt;p&gt;Videos are a rich source of multi-modal sup...</td>\n",
              "    </tr>\n",
              "    <tr>\n",
              "      <th>3</th>\n",
              "      <td>3</td>\n",
              "      <td>Benchmarking Deep Inverse Models over time, an...</td>\n",
              "      <td>&lt;p&gt;We consider the task of solving generic inv...</td>\n",
              "    </tr>\n",
              "    <tr>\n",
              "      <th>4</th>\n",
              "      <td>4</td>\n",
              "      <td>Off-Policy Evaluation and Learning for Externa...</td>\n",
              "      <td>&lt;p&gt;We consider the evaluation and training of ...</td>\n",
              "    </tr>\n",
              "    <tr>\n",
              "      <th>...</th>\n",
              "      <td>...</td>\n",
              "      <td>...</td>\n",
              "      <td>...</td>\n",
              "    </tr>\n",
              "    <tr>\n",
              "      <th>1893</th>\n",
              "      <td>1893</td>\n",
              "      <td>Distributed Distillation for On-Device Learning</td>\n",
              "      <td>&lt;p&gt;On-device learning promises collaborative t...</td>\n",
              "    </tr>\n",
              "    <tr>\n",
              "      <th>1894</th>\n",
              "      <td>1894</td>\n",
              "      <td>COOT: Cooperative Hierarchical Transformer for...</td>\n",
              "      <td>&lt;p&gt;Many real-world video-text tasks involve di...</td>\n",
              "    </tr>\n",
              "    <tr>\n",
              "      <th>1895</th>\n",
              "      <td>1895</td>\n",
              "      <td>Passport-aware Normalization for Deep Model Pr...</td>\n",
              "      <td>&lt;p&gt;Despite tremendous success in many applicat...</td>\n",
              "    </tr>\n",
              "    <tr>\n",
              "      <th>1896</th>\n",
              "      <td>1896</td>\n",
              "      <td>Sampling-Decomposable Generative Adversarial R...</td>\n",
              "      <td>&lt;p&gt;Recommendation techniques are important app...</td>\n",
              "    </tr>\n",
              "    <tr>\n",
              "      <th>1897</th>\n",
              "      <td>1897</td>\n",
              "      <td>Limits to Depth Efficiencies of Self-Attention</td>\n",
              "      <td>&lt;p&gt;Self-attention architectures, which are rap...</td>\n",
              "    </tr>\n",
              "  </tbody>\n",
              "</table>\n",
              "<p>1898 rows × 3 columns</p>\n",
              "</div>"
            ],
            "text/plain": [
              "      Unnamed: 0  ...                                           Abstract\n",
              "0              0  ...  <p>Graph neural networks (GNNs) have been succ...\n",
              "1              1  ...  <p>Tractable models of human perception have p...\n",
              "2              2  ...  <p>Videos are a rich source of multi-modal sup...\n",
              "3              3  ...  <p>We consider the task of solving generic inv...\n",
              "4              4  ...  <p>We consider the evaluation and training of ...\n",
              "...          ...  ...                                                ...\n",
              "1893        1893  ...  <p>On-device learning promises collaborative t...\n",
              "1894        1894  ...  <p>Many real-world video-text tasks involve di...\n",
              "1895        1895  ...  <p>Despite tremendous success in many applicat...\n",
              "1896        1896  ...  <p>Recommendation techniques are important app...\n",
              "1897        1897  ...  <p>Self-attention architectures, which are rap...\n",
              "\n",
              "[1898 rows x 3 columns]"
            ]
          },
          "metadata": {},
          "execution_count": 35
        }
      ]
    },
    {
      "cell_type": "code",
      "metadata": {
        "id": "FNA34aiDQdDt"
      },
      "source": [
        "## Saving the title, abstract of papers from 2020 to a dictionary indexed by paper titles.\n",
        "papers_2020_dic={}\n",
        "count=0\n",
        "for i,row in papers_2020.iterrows():\n",
        "    abstract=row['Abstract']\n",
        "    abstract=abstract.replace('<p>','').replace('</p>','').replace('<em>','').replace('</em>','')\n",
        "    papers_2020_dic[row['Title']]=row['Title']+' '+row['Abstract']"
      ],
      "execution_count": null,
      "outputs": []
    },
    {
      "cell_type": "code",
      "metadata": {
        "id": "4iymin3_QdDt"
      },
      "source": [
        "## Preprocessing and creating shingles. We use unigrams for further analysis.\n",
        "papers_2020_dic=preprocess(papers_2020_dic)\n",
        "papers_2020_dic_k=kshingles(papers_2020_dic,k=1)\n",
        "papers_2020_dic_minhash=computeminhash(papers_2020_dic_k,128)"
      ],
      "execution_count": null,
      "outputs": []
    },
    {
      "cell_type": "code",
      "metadata": {
        "id": "DMvgNtLBQdDt",
        "colab": {
          "base_uri": "https://localhost:8080/"
        },
        "outputId": "288ec993-1947-4412-a6e0-f26034fca3d5"
      },
      "source": [
        "## Sample result for a query of top 10 candidates for an example paper\n",
        "result = forest.query(list(papers_2020_dic_minhash.values())[8], 10)\n",
        "print(\"Top candidates\", result)"
      ],
      "execution_count": null,
      "outputs": [
        {
          "output_type": "stream",
          "name": "stdout",
          "text": [
            "Top candidates ['Large Margin Discriminant Dimensionality Reduction in Prediction Space', 'Sparse Multi-Task Reinforcement Learning', 'Zeta Hull Pursuits: Learning Nonconvex Data Hulls', 'Heterogeneous multitask learning with joint sparsity constraints', 'A Deep Architecture for Matching Short Texts', 'Exploring Large Feature Spaces with Hierarchical Multiple Kernel Learning', 'Learning with Invariance via Linear Functionals on Reproducing Kernel Hilbert Space', 'Efficient Optimization for Linear Dynamical Systems with Applications to Clustering and Sparse Coding', 'Efficient Second-Order Online Kernel Learning with Adaptive Embedding', 'Scalable Generalized Linear Bandits: Online Computation and Hashing']\n"
          ]
        }
      ]
    },
    {
      "cell_type": "code",
      "metadata": {
        "id": "ezq2-TkioHE9"
      },
      "source": [
        "## Store the results of top k queries for each paper in 2020. The LSHForest is formed using papers from 1987-2016.\n",
        "## Refer to pdf file for more information on strategy employed.\n",
        "results=[]\n",
        "for key,item in papers_2020_dic_minhash.items():\n",
        "    temp=forest.query(item,10)\n",
        "    results.append(temp)"
      ],
      "execution_count": null,
      "outputs": []
    },
    {
      "cell_type": "code",
      "metadata": {
        "colab": {
          "base_uri": "https://localhost:8080/"
        },
        "id": "j_UTR8rfpslO",
        "outputId": "bfe59946-866e-4b30-e1d7-6ef7c9080cd7"
      },
      "source": [
        "np.array(results).shape"
      ],
      "execution_count": null,
      "outputs": [
        {
          "output_type": "execute_result",
          "data": {
            "text/plain": [
              "(1898, 10)"
            ]
          },
          "metadata": {},
          "execution_count": 40
        }
      ]
    },
    {
      "cell_type": "code",
      "metadata": {
        "id": "RVwwEBCqoHXB"
      },
      "source": [
        "## Storing the years of individual papers\n",
        "years={}\n",
        "for index,row in papers_19872016.iterrows():\n",
        "    years[row['title']]=row['year']\n",
        "#years"
      ],
      "execution_count": null,
      "outputs": []
    },
    {
      "cell_type": "code",
      "metadata": {
        "id": "xlXO7gMnoHqg"
      },
      "source": [
        "## Our scoring function which returns two types of rankings.\n",
        "## The first is the set of oldest k papers crossing the score threshold specified.\n",
        "## The second is the highest scoring papers/ most relevant papers for the entire time span of 1987-2016.\n",
        "def return_top_scoring_old(results,years,score_threshold=15):\n",
        "    frequency={}\n",
        "    for key in years.keys():\n",
        "        frequency[key]=0\n",
        "    for item in results:\n",
        "        for i in item:\n",
        "            frequency[i]=frequency[i]+1\n",
        "    top5oldest=[]\n",
        "    count=0\n",
        "    for key,item in years.items():\n",
        "        if count==5:\n",
        "            break\n",
        "        if frequency[key]>score_threshold:\n",
        "            top5oldest.append((key,item,frequency[key]))\n",
        "            count+=1\n",
        "    frequency_sorted=dict(sorted(frequency.items(), key=lambda item: item[1], reverse=True))\n",
        "    top5 = []\n",
        "    count=0\n",
        "    for key,item in frequency_sorted.items():\n",
        "        if count==5:\n",
        "            break\n",
        "        top5.append((key,item))\n",
        "        count=count+1\n",
        "    return top5oldest,top5"
      ],
      "execution_count": null,
      "outputs": []
    },
    {
      "cell_type": "code",
      "metadata": {
        "id": "cnN69Kp9oH7J"
      },
      "source": [
        "## Setting the score threshold.\n",
        "freq_hit_threshold=15\n",
        "top5oldest,top5=return_top_scoring_old(results,dict(sorted(years.items(), key=lambda item: item[1])),freq_hit_threshold)"
      ],
      "execution_count": null,
      "outputs": []
    },
    {
      "cell_type": "code",
      "metadata": {
        "colab": {
          "base_uri": "https://localhost:8080/"
        },
        "id": "P0RVtyLyoIL7",
        "outputId": "7dcdf9f0-c110-4778-9c52-cd5385d7803f"
      },
      "source": [
        "def print_top_k2(mylist,k=5):\n",
        "  count=0\n",
        "  for item in mylist:\n",
        "    if count==k:\n",
        "      break\n",
        "    print(item)\n",
        "    count=count+1\n",
        "print(\"Oldest papers with score greater than the frquency hit threshold are (paper,year,score)\\n\")\n",
        "print_top_k2(top5oldest)"
      ],
      "execution_count": null,
      "outputs": [
        {
          "output_type": "stream",
          "name": "stdout",
          "text": [
            "Oldest papers with score greater than the frquency hit threshold are (paper,year,score)\n",
            "\n",
            "('Improving the Performance of Radial Basis Function Networks by Learning Center Locations', 1991, 29)\n",
            "('Extended Regularization Methods for Nonconvergent Model Selection', 1992, 17)\n",
            "(\"`N-Body' Problems in Statistical Learning\", 2000, 20)\n",
            "('Maximum Margin Clustering', 2004, 18)\n",
            "('Multiple Instance Boosting for Object Detection', 2005, 17)\n"
          ]
        }
      ]
    },
    {
      "cell_type": "code",
      "metadata": {
        "colab": {
          "base_uri": "https://localhost:8080/"
        },
        "id": "SEVi7xbdsJDr",
        "outputId": "0995ce8b-02a0-45dc-d89d-bc5a9b81ea76"
      },
      "source": [
        "print(\"Papers with highest score/frequency from 1987-2006 are (paper,score)\\n\")\n",
        "print_top_k2(top5)"
      ],
      "execution_count": null,
      "outputs": [
        {
          "output_type": "stream",
          "name": "stdout",
          "text": [
            "Papers with highest score/frequency from 1987-2006 are (paper,score)\n",
            "\n",
            "('Structure Regularization for Structured Prediction', 34)\n",
            "('Recursive Segmentation and Recognition Templates for 2D Parsing', 33)\n",
            "('Dropout Training as Adaptive Regularization', 33)\n",
            "('Non-parametric Structured Output Networks', 33)\n",
            "('A Neural Autoregressive Topic Model', 32)\n"
          ]
        }
      ]
    },
    {
      "cell_type": "markdown",
      "metadata": {
        "id": "Ud5ziiH8hGFL"
      },
      "source": [
        "### Thank You."
      ]
    }
  ]
}